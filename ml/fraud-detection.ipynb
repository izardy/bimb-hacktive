{
 "cells": [
  {
   "cell_type": "markdown",
   "id": "7f68f3f8",
   "metadata": {
    "papermill": {
     "duration": 0.013783,
     "end_time": "2024-04-06T17:58:20.724899",
     "exception": false,
     "start_time": "2024-04-06T17:58:20.711116",
     "status": "completed"
    },
    "tags": []
   },
   "source": [
    "# Financial Fraud Detection\n",
    "## Introduction\n",
    "- Financial Fraud Detection is the process of monitoring transactions and customer behavior to identify and stop fraudulent activity. According to Juniper Research's 2022 study about online payment fraud, globally payment fraud are noted to exceed $343 billion between 2023 and 2027.\n",
    "- Traditionally, firms have used fraud detection and prevention to curb company financial losses and maintain positive customer relations.\n",
    "\n",
    "## Common Types of Fraud:\n",
    "There are different type of fraut and constanlty emerging. Some fraud typologies persist because they exploit weaknesses in a company's processes and systems. Here are some common type of frauds.\n",
    "1. **Payement Fraud**: Happens when a criminal acquires another individual's payement iformation and makes unauthorized transactions.\n",
    "2. **Return Fraud**: takes advantage of a retailer's return policy to receive refunts that aren't legitimate. Fraudulent returns may consist of stolen goods, conterfit products, old and worn-out goods, or items bought from a different retailer.\n",
    "3. **ACH Fraud**: Automated Clearing House is a means of transferring money between bank accounts, usually those of businesses and institutions. ACH is carried out using a bank account number and bank routing number.\n",
    "4. **Chargeback fraud**: contains an individual requesting chargebacks for transactions that were fulfilled by the company they purchased from.\n",
    "5. **Account takeover fraud (ATO)**: happens when a criminal acquires the authenication of an account, such as bank account, online payment service, mobile account, or e-commerce site.\n",
    "\n",
    "## Methods to detect fraud:\n",
    "To protect businesses and counsumers from evolving fraud risks, employing the most effective fraud detection techniques is very important. There are following techniques that can be used to detect frauds.\n",
    "1. **Machine Learning and AI**: Mahcine learning algorithm and AI is enhancing fraud detection capabilities. These techniques analyze large amount of data in real-time, identify patterns and anomalies that might show fraudulent activities.\n",
    "2. **Behavioral Analytics**: By analysing users behaviors, businesses can detect deviations from normal patterns.\n",
    "3. **Anomaly Detection**: Anomaly Detection helps in creating a baseline of normal behavior and flagging any data points that deviate significantly from it.\n",
    "4. **Identity clustering**: Making a group of user identities based on common attributes and behaviors helps in identify patterns of fraudulent behavior.\n",
    "5. **Data analytics**: Advanced data analytics tools can shift thgough a large datasets and identify potential fraud indicators.\n",
    "\n",
    "## Main Challenges of Fraud Detection\n",
    "1. **Management**: Relying soley on rule-based transaction monitoring and fraud detection can be a challenge as sca, techniques change.\n",
    "2. **Remote transactions**: While this is convenient and cost-effective, it also opens the door for fraudsters to impersonate genuine customers or intercept their details.\n",
    "3. **Speed of transactions**: Now-a-days transaction ecosystem is built for speed and convenience. This high-speed, low-friction environement can make it easy for fraudsters to complete their crimes and disappear before they can be detected.\n",
    "4. **False positives**: A fraud detection system that is over-zealous can lead to higher false positives. This is inconvenient for customers, who may become less loyal as a result, and expensive for businesses, who must expend time and resources following up the alert.\n",
    "5. **Range of transaction types**: Large number of tools and services are used to make transactions such as payment apps and cryptocurrency, loans, credit cards and savings accounts.\n",
    "# About the dataset\n",
    "- The dataset is a synthetic representation of mobile money transactions, usually to carried out real-world financial activities while integrating fraudulent behaviors for research purposes. \n",
    "- The dataset encompasses a variety of transaction types including CASH-IN, CASH-OUT, DEBIT, PAYEMENT, and TRANSFER over a simulated period of 30 days."
   ]
  },
  {
   "cell_type": "markdown",
   "id": "34e1f02a",
   "metadata": {
    "papermill": {
     "duration": 0.013149,
     "end_time": "2024-04-06T17:58:20.751151",
     "exception": false,
     "start_time": "2024-04-06T17:58:20.738002",
     "status": "completed"
    },
    "tags": []
   },
   "source": [
    "# Importing Libraries"
   ]
  },
  {
   "cell_type": "code",
   "execution_count": 4,
   "id": "d6fd6911",
   "metadata": {
    "_cell_guid": "b1076dfc-b9ad-4769-8c92-a6c4dae69d19",
    "_uuid": "8f2839f25d086af736a60e9eeb907d3b93b6e0e5",
    "execution": {
     "iopub.execute_input": "2024-04-06T17:58:20.778893Z",
     "iopub.status.busy": "2024-04-06T17:58:20.778549Z",
     "iopub.status.idle": "2024-04-06T17:58:23.080412Z",
     "shell.execute_reply": "2024-04-06T17:58:23.079634Z"
    },
    "papermill": {
     "duration": 2.318502,
     "end_time": "2024-04-06T17:58:23.082677",
     "exception": false,
     "start_time": "2024-04-06T17:58:20.764175",
     "status": "completed"
    },
    "tags": []
   },
   "outputs": [],
   "source": [
    "# importing the library\n",
    "import pandas as pd\n",
    "import numpy as np\n",
    "import matplotlib.pyplot as plt\n",
    "import seaborn as sns\n",
    "from sklearn.preprocessing import LabelEncoder, StandardScaler\n",
    "from sklearn.linear_model import LogisticRegression\n",
    "from sklearn.svm import SVC\n",
    "from sklearn.tree import DecisionTreeClassifier\n",
    "from sklearn.model_selection import train_test_split\n",
    "from sklearn.neural_network import MLPClassifier\n",
    "from sklearn.metrics import accuracy_score, recall_score, precision_score, classification_report, confusion_matrix"
   ]
  },
  {
   "cell_type": "markdown",
   "id": "120ca25e",
   "metadata": {
    "papermill": {
     "duration": 0.012825,
     "end_time": "2024-04-06T17:58:23.109755",
     "exception": false,
     "start_time": "2024-04-06T17:58:23.096930",
     "status": "completed"
    },
    "tags": []
   },
   "source": [
    "# Reading the data"
   ]
  },
  {
   "cell_type": "code",
   "execution_count": null,
   "id": "a90f0895",
   "metadata": {
    "execution": {
     "iopub.execute_input": "2024-04-06T17:58:23.137405Z",
     "iopub.status.busy": "2024-04-06T17:58:23.136956Z",
     "iopub.status.idle": "2024-04-06T17:58:41.081880Z",
     "shell.execute_reply": "2024-04-06T17:58:41.080889Z"
    },
    "papermill": {
     "duration": 17.961568,
     "end_time": "2024-04-06T17:58:41.084258",
     "exception": false,
     "start_time": "2024-04-06T17:58:23.122690",
     "status": "completed"
    },
    "tags": []
   },
   "outputs": [],
   "source": [
    "# reading the dataset\n",
    "# df = pd.read_csv(\"Synthetic_Financial_datasets_log.csv\")\n",
    "# df.to_parquet('Synthetic_Financial_datasets_log.parquet', index=False)"
   ]
  },
  {
   "cell_type": "code",
   "execution_count": 9,
   "id": "6dbdf977",
   "metadata": {},
   "outputs": [],
   "source": [
    "df = pd.read_parquet('Synthetic_Financial_datasets_log.parquet')\n",
    "# df.head()"
   ]
  },
  {
   "cell_type": "markdown",
   "id": "b1827860",
   "metadata": {
    "papermill": {
     "duration": 0.01284,
     "end_time": "2024-04-06T17:58:41.110574",
     "exception": false,
     "start_time": "2024-04-06T17:58:41.097734",
     "status": "completed"
    },
    "tags": []
   },
   "source": [
    "# Printing the data"
   ]
  },
  {
   "cell_type": "code",
   "execution_count": 10,
   "id": "18d34b0c",
   "metadata": {
    "execution": {
     "iopub.execute_input": "2024-04-06T17:58:41.137753Z",
     "iopub.status.busy": "2024-04-06T17:58:41.137432Z",
     "iopub.status.idle": "2024-04-06T17:58:41.159035Z",
     "shell.execute_reply": "2024-04-06T17:58:41.158161Z"
    },
    "papermill": {
     "duration": 0.037385,
     "end_time": "2024-04-06T17:58:41.160847",
     "exception": false,
     "start_time": "2024-04-06T17:58:41.123462",
     "status": "completed"
    },
    "tags": []
   },
   "outputs": [
    {
     "data": {
      "text/html": [
       "<div>\n",
       "<style scoped>\n",
       "    .dataframe tbody tr th:only-of-type {\n",
       "        vertical-align: middle;\n",
       "    }\n",
       "\n",
       "    .dataframe tbody tr th {\n",
       "        vertical-align: top;\n",
       "    }\n",
       "\n",
       "    .dataframe thead th {\n",
       "        text-align: right;\n",
       "    }\n",
       "</style>\n",
       "<table border=\"1\" class=\"dataframe\">\n",
       "  <thead>\n",
       "    <tr style=\"text-align: right;\">\n",
       "      <th></th>\n",
       "      <th>step</th>\n",
       "      <th>type</th>\n",
       "      <th>amount</th>\n",
       "      <th>nameOrig</th>\n",
       "      <th>oldbalanceOrg</th>\n",
       "      <th>newbalanceOrig</th>\n",
       "      <th>nameDest</th>\n",
       "      <th>oldbalanceDest</th>\n",
       "      <th>newbalanceDest</th>\n",
       "      <th>isFraud</th>\n",
       "      <th>isFlaggedFraud</th>\n",
       "    </tr>\n",
       "  </thead>\n",
       "  <tbody>\n",
       "    <tr>\n",
       "      <th>0</th>\n",
       "      <td>1</td>\n",
       "      <td>PAYMENT</td>\n",
       "      <td>9839.64</td>\n",
       "      <td>C1231006815</td>\n",
       "      <td>170136.0</td>\n",
       "      <td>160296.36</td>\n",
       "      <td>M1979787155</td>\n",
       "      <td>0.0</td>\n",
       "      <td>0.0</td>\n",
       "      <td>0</td>\n",
       "      <td>0</td>\n",
       "    </tr>\n",
       "    <tr>\n",
       "      <th>1</th>\n",
       "      <td>1</td>\n",
       "      <td>PAYMENT</td>\n",
       "      <td>1864.28</td>\n",
       "      <td>C1666544295</td>\n",
       "      <td>21249.0</td>\n",
       "      <td>19384.72</td>\n",
       "      <td>M2044282225</td>\n",
       "      <td>0.0</td>\n",
       "      <td>0.0</td>\n",
       "      <td>0</td>\n",
       "      <td>0</td>\n",
       "    </tr>\n",
       "    <tr>\n",
       "      <th>2</th>\n",
       "      <td>1</td>\n",
       "      <td>TRANSFER</td>\n",
       "      <td>181.00</td>\n",
       "      <td>C1305486145</td>\n",
       "      <td>181.0</td>\n",
       "      <td>0.00</td>\n",
       "      <td>C553264065</td>\n",
       "      <td>0.0</td>\n",
       "      <td>0.0</td>\n",
       "      <td>1</td>\n",
       "      <td>0</td>\n",
       "    </tr>\n",
       "    <tr>\n",
       "      <th>3</th>\n",
       "      <td>1</td>\n",
       "      <td>CASH_OUT</td>\n",
       "      <td>181.00</td>\n",
       "      <td>C840083671</td>\n",
       "      <td>181.0</td>\n",
       "      <td>0.00</td>\n",
       "      <td>C38997010</td>\n",
       "      <td>21182.0</td>\n",
       "      <td>0.0</td>\n",
       "      <td>1</td>\n",
       "      <td>0</td>\n",
       "    </tr>\n",
       "    <tr>\n",
       "      <th>4</th>\n",
       "      <td>1</td>\n",
       "      <td>PAYMENT</td>\n",
       "      <td>11668.14</td>\n",
       "      <td>C2048537720</td>\n",
       "      <td>41554.0</td>\n",
       "      <td>29885.86</td>\n",
       "      <td>M1230701703</td>\n",
       "      <td>0.0</td>\n",
       "      <td>0.0</td>\n",
       "      <td>0</td>\n",
       "      <td>0</td>\n",
       "    </tr>\n",
       "  </tbody>\n",
       "</table>\n",
       "</div>"
      ],
      "text/plain": [
       "   step      type    amount     nameOrig  oldbalanceOrg  newbalanceOrig  \\\n",
       "0     1   PAYMENT   9839.64  C1231006815       170136.0       160296.36   \n",
       "1     1   PAYMENT   1864.28  C1666544295        21249.0        19384.72   \n",
       "2     1  TRANSFER    181.00  C1305486145          181.0            0.00   \n",
       "3     1  CASH_OUT    181.00   C840083671          181.0            0.00   \n",
       "4     1   PAYMENT  11668.14  C2048537720        41554.0        29885.86   \n",
       "\n",
       "      nameDest  oldbalanceDest  newbalanceDest  isFraud  isFlaggedFraud  \n",
       "0  M1979787155             0.0             0.0        0               0  \n",
       "1  M2044282225             0.0             0.0        0               0  \n",
       "2   C553264065             0.0             0.0        1               0  \n",
       "3    C38997010         21182.0             0.0        1               0  \n",
       "4  M1230701703             0.0             0.0        0               0  "
      ]
     },
     "execution_count": 10,
     "metadata": {},
     "output_type": "execute_result"
    }
   ],
   "source": [
    "# printing the data\n",
    "df.head()"
   ]
  },
  {
   "cell_type": "markdown",
   "id": "fa49e0ec",
   "metadata": {
    "papermill": {
     "duration": 0.013054,
     "end_time": "2024-04-06T17:58:41.187237",
     "exception": false,
     "start_time": "2024-04-06T17:58:41.174183",
     "status": "completed"
    },
    "tags": []
   },
   "source": [
    "# Statistical analysis"
   ]
  },
  {
   "cell_type": "code",
   "execution_count": 11,
   "id": "6a83e83e",
   "metadata": {
    "execution": {
     "iopub.execute_input": "2024-04-06T17:58:41.215095Z",
     "iopub.status.busy": "2024-04-06T17:58:41.214805Z",
     "iopub.status.idle": "2024-04-06T17:58:41.220000Z",
     "shell.execute_reply": "2024-04-06T17:58:41.219224Z"
    },
    "papermill": {
     "duration": 0.021412,
     "end_time": "2024-04-06T17:58:41.221810",
     "exception": false,
     "start_time": "2024-04-06T17:58:41.200398",
     "status": "completed"
    },
    "tags": []
   },
   "outputs": [
    {
     "data": {
      "text/plain": [
       "(6362620, 11)"
      ]
     },
     "execution_count": 11,
     "metadata": {},
     "output_type": "execute_result"
    }
   ],
   "source": [
    "# print the shape of the data\n",
    "df.shape"
   ]
  },
  {
   "cell_type": "markdown",
   "id": "245a11e7",
   "metadata": {
    "papermill": {
     "duration": 0.013172,
     "end_time": "2024-04-06T17:58:41.248205",
     "exception": false,
     "start_time": "2024-04-06T17:58:41.235033",
     "status": "completed"
    },
    "tags": []
   },
   "source": [
    "- There are 6362620 rows and 11 columns in the data."
   ]
  },
  {
   "cell_type": "code",
   "execution_count": 12,
   "id": "9e6e4df9",
   "metadata": {
    "execution": {
     "iopub.execute_input": "2024-04-06T17:58:41.277131Z",
     "iopub.status.busy": "2024-04-06T17:58:41.276886Z",
     "iopub.status.idle": "2024-04-06T17:58:41.298136Z",
     "shell.execute_reply": "2024-04-06T17:58:41.297251Z"
    },
    "papermill": {
     "duration": 0.037354,
     "end_time": "2024-04-06T17:58:41.300208",
     "exception": false,
     "start_time": "2024-04-06T17:58:41.262854",
     "status": "completed"
    },
    "tags": []
   },
   "outputs": [
    {
     "name": "stdout",
     "output_type": "stream",
     "text": [
      "<class 'pandas.core.frame.DataFrame'>\n",
      "RangeIndex: 6362620 entries, 0 to 6362619\n",
      "Data columns (total 11 columns):\n",
      " #   Column          Dtype  \n",
      "---  ------          -----  \n",
      " 0   step            int64  \n",
      " 1   type            object \n",
      " 2   amount          float64\n",
      " 3   nameOrig        object \n",
      " 4   oldbalanceOrg   float64\n",
      " 5   newbalanceOrig  float64\n",
      " 6   nameDest        object \n",
      " 7   oldbalanceDest  float64\n",
      " 8   newbalanceDest  float64\n",
      " 9   isFraud         int64  \n",
      " 10  isFlaggedFraud  int64  \n",
      "dtypes: float64(5), int64(3), object(3)\n",
      "memory usage: 534.0+ MB\n"
     ]
    }
   ],
   "source": [
    "# printing the information of the data\n",
    "df.info()"
   ]
  },
  {
   "cell_type": "markdown",
   "id": "edc13dc7",
   "metadata": {
    "papermill": {
     "duration": 0.013508,
     "end_time": "2024-04-06T17:58:41.327279",
     "exception": false,
     "start_time": "2024-04-06T17:58:41.313771",
     "status": "completed"
    },
    "tags": []
   },
   "source": [
    "About the dataset\n",
    "The dataset is a synthetic representation of mobile money transactions, usually to carried out real-world financial activities while integrating fraudulent behaviors for research purposes.\n",
    "The dataset encompasses a variety of transaction types including CASH-IN, CASH-OUT, DEBIT, PAYEMENT, and TRANSFER over a simulated period of 30 days.- The dataset contains 6,362,620 entries.\n",
    "- It has 11 columns.\n",
    "- The columns include:\n",
    " - **step**: An integer representing the time step of the transaction.\n",
    " - **type**: Categorical variable indicating the type of transaction.\n",
    " - **amount**: Float value representing the amount of the transaction.\n",
    " - **nameOrig**: Object type representing the name of the origin account.\n",
    " - **oldbalanceOrg**: Float value indicating the old balance of the origin account before the transaction.\n",
    " - **newbalanceOrig**: Float value indicating the new balance of the origin account after the transaction.\n",
    " - **nameDest**: Object type representing the name of the destination account.\n",
    " - **oldbalanceDest**: Float value indicating the old balance of the destination account before the transaction.\n",
    " - **newbalanceDest**: Float value indicating the new balance of the destination account after the transaction.\n",
    " - **isFraud**: Binary integer indicating whether the transaction is fraudulent (1) or not (0).\n",
    " - **isFlaggedFraud**: Binary integer indicating whether the transaction was flagged as fraudulent (1) or not (0).\n",
    "The data types are as follows:\n",
    "- 5 columns are of type float64.\n",
    "- 3 columns are of type int64.\n",
    "- 3 columns are of type object.\n",
    "\n",
    "The memory usage of the DataFrame is approximately 534.0+ MB."
   ]
  },
  {
   "cell_type": "code",
   "execution_count": 13,
   "id": "20db6de4",
   "metadata": {
    "execution": {
     "iopub.execute_input": "2024-04-06T17:58:41.354990Z",
     "iopub.status.busy": "2024-04-06T17:58:41.354723Z",
     "iopub.status.idle": "2024-04-06T17:58:43.071098Z",
     "shell.execute_reply": "2024-04-06T17:58:43.070068Z"
    },
    "papermill": {
     "duration": 1.733227,
     "end_time": "2024-04-06T17:58:43.073773",
     "exception": false,
     "start_time": "2024-04-06T17:58:41.340546",
     "status": "completed"
    },
    "tags": []
   },
   "outputs": [
    {
     "data": {
      "text/html": [
       "<div>\n",
       "<style scoped>\n",
       "    .dataframe tbody tr th:only-of-type {\n",
       "        vertical-align: middle;\n",
       "    }\n",
       "\n",
       "    .dataframe tbody tr th {\n",
       "        vertical-align: top;\n",
       "    }\n",
       "\n",
       "    .dataframe thead th {\n",
       "        text-align: right;\n",
       "    }\n",
       "</style>\n",
       "<table border=\"1\" class=\"dataframe\">\n",
       "  <thead>\n",
       "    <tr style=\"text-align: right;\">\n",
       "      <th></th>\n",
       "      <th>step</th>\n",
       "      <th>amount</th>\n",
       "      <th>oldbalanceOrg</th>\n",
       "      <th>newbalanceOrig</th>\n",
       "      <th>oldbalanceDest</th>\n",
       "      <th>newbalanceDest</th>\n",
       "      <th>isFraud</th>\n",
       "      <th>isFlaggedFraud</th>\n",
       "    </tr>\n",
       "  </thead>\n",
       "  <tbody>\n",
       "    <tr>\n",
       "      <th>count</th>\n",
       "      <td>6.362620e+06</td>\n",
       "      <td>6.362620e+06</td>\n",
       "      <td>6.362620e+06</td>\n",
       "      <td>6.362620e+06</td>\n",
       "      <td>6.362620e+06</td>\n",
       "      <td>6.362620e+06</td>\n",
       "      <td>6.362620e+06</td>\n",
       "      <td>6.362620e+06</td>\n",
       "    </tr>\n",
       "    <tr>\n",
       "      <th>mean</th>\n",
       "      <td>2.433972e+02</td>\n",
       "      <td>1.798619e+05</td>\n",
       "      <td>8.338831e+05</td>\n",
       "      <td>8.551137e+05</td>\n",
       "      <td>1.100702e+06</td>\n",
       "      <td>1.224996e+06</td>\n",
       "      <td>1.290820e-03</td>\n",
       "      <td>2.514687e-06</td>\n",
       "    </tr>\n",
       "    <tr>\n",
       "      <th>std</th>\n",
       "      <td>1.423320e+02</td>\n",
       "      <td>6.038582e+05</td>\n",
       "      <td>2.888243e+06</td>\n",
       "      <td>2.924049e+06</td>\n",
       "      <td>3.399180e+06</td>\n",
       "      <td>3.674129e+06</td>\n",
       "      <td>3.590480e-02</td>\n",
       "      <td>1.585775e-03</td>\n",
       "    </tr>\n",
       "    <tr>\n",
       "      <th>min</th>\n",
       "      <td>1.000000e+00</td>\n",
       "      <td>0.000000e+00</td>\n",
       "      <td>0.000000e+00</td>\n",
       "      <td>0.000000e+00</td>\n",
       "      <td>0.000000e+00</td>\n",
       "      <td>0.000000e+00</td>\n",
       "      <td>0.000000e+00</td>\n",
       "      <td>0.000000e+00</td>\n",
       "    </tr>\n",
       "    <tr>\n",
       "      <th>25%</th>\n",
       "      <td>1.560000e+02</td>\n",
       "      <td>1.338957e+04</td>\n",
       "      <td>0.000000e+00</td>\n",
       "      <td>0.000000e+00</td>\n",
       "      <td>0.000000e+00</td>\n",
       "      <td>0.000000e+00</td>\n",
       "      <td>0.000000e+00</td>\n",
       "      <td>0.000000e+00</td>\n",
       "    </tr>\n",
       "    <tr>\n",
       "      <th>50%</th>\n",
       "      <td>2.390000e+02</td>\n",
       "      <td>7.487194e+04</td>\n",
       "      <td>1.420800e+04</td>\n",
       "      <td>0.000000e+00</td>\n",
       "      <td>1.327057e+05</td>\n",
       "      <td>2.146614e+05</td>\n",
       "      <td>0.000000e+00</td>\n",
       "      <td>0.000000e+00</td>\n",
       "    </tr>\n",
       "    <tr>\n",
       "      <th>75%</th>\n",
       "      <td>3.350000e+02</td>\n",
       "      <td>2.087215e+05</td>\n",
       "      <td>1.073152e+05</td>\n",
       "      <td>1.442584e+05</td>\n",
       "      <td>9.430367e+05</td>\n",
       "      <td>1.111909e+06</td>\n",
       "      <td>0.000000e+00</td>\n",
       "      <td>0.000000e+00</td>\n",
       "    </tr>\n",
       "    <tr>\n",
       "      <th>max</th>\n",
       "      <td>7.430000e+02</td>\n",
       "      <td>9.244552e+07</td>\n",
       "      <td>5.958504e+07</td>\n",
       "      <td>4.958504e+07</td>\n",
       "      <td>3.560159e+08</td>\n",
       "      <td>3.561793e+08</td>\n",
       "      <td>1.000000e+00</td>\n",
       "      <td>1.000000e+00</td>\n",
       "    </tr>\n",
       "  </tbody>\n",
       "</table>\n",
       "</div>"
      ],
      "text/plain": [
       "               step        amount  oldbalanceOrg  newbalanceOrig  \\\n",
       "count  6.362620e+06  6.362620e+06   6.362620e+06    6.362620e+06   \n",
       "mean   2.433972e+02  1.798619e+05   8.338831e+05    8.551137e+05   \n",
       "std    1.423320e+02  6.038582e+05   2.888243e+06    2.924049e+06   \n",
       "min    1.000000e+00  0.000000e+00   0.000000e+00    0.000000e+00   \n",
       "25%    1.560000e+02  1.338957e+04   0.000000e+00    0.000000e+00   \n",
       "50%    2.390000e+02  7.487194e+04   1.420800e+04    0.000000e+00   \n",
       "75%    3.350000e+02  2.087215e+05   1.073152e+05    1.442584e+05   \n",
       "max    7.430000e+02  9.244552e+07   5.958504e+07    4.958504e+07   \n",
       "\n",
       "       oldbalanceDest  newbalanceDest       isFraud  isFlaggedFraud  \n",
       "count    6.362620e+06    6.362620e+06  6.362620e+06    6.362620e+06  \n",
       "mean     1.100702e+06    1.224996e+06  1.290820e-03    2.514687e-06  \n",
       "std      3.399180e+06    3.674129e+06  3.590480e-02    1.585775e-03  \n",
       "min      0.000000e+00    0.000000e+00  0.000000e+00    0.000000e+00  \n",
       "25%      0.000000e+00    0.000000e+00  0.000000e+00    0.000000e+00  \n",
       "50%      1.327057e+05    2.146614e+05  0.000000e+00    0.000000e+00  \n",
       "75%      9.430367e+05    1.111909e+06  0.000000e+00    0.000000e+00  \n",
       "max      3.560159e+08    3.561793e+08  1.000000e+00    1.000000e+00  "
      ]
     },
     "execution_count": 13,
     "metadata": {},
     "output_type": "execute_result"
    }
   ],
   "source": [
    "# describing the data\n",
    "df.describe()"
   ]
  },
  {
   "cell_type": "code",
   "execution_count": 14,
   "id": "3d87105b",
   "metadata": {
    "execution": {
     "iopub.execute_input": "2024-04-06T17:58:43.103801Z",
     "iopub.status.busy": "2024-04-06T17:58:43.103478Z",
     "iopub.status.idle": "2024-04-06T17:58:44.890093Z",
     "shell.execute_reply": "2024-04-06T17:58:44.889137Z"
    },
    "papermill": {
     "duration": 1.803506,
     "end_time": "2024-04-06T17:58:44.892327",
     "exception": false,
     "start_time": "2024-04-06T17:58:43.088821",
     "status": "completed"
    },
    "tags": []
   },
   "outputs": [
    {
     "data": {
      "text/plain": [
       "step              0\n",
       "type              0\n",
       "amount            0\n",
       "nameOrig          0\n",
       "oldbalanceOrg     0\n",
       "newbalanceOrig    0\n",
       "nameDest          0\n",
       "oldbalanceDest    0\n",
       "newbalanceDest    0\n",
       "isFraud           0\n",
       "isFlaggedFraud    0\n",
       "dtype: int64"
      ]
     },
     "execution_count": 14,
     "metadata": {},
     "output_type": "execute_result"
    }
   ],
   "source": [
    "# checking the missing values in the data\n",
    "df.isna().sum()"
   ]
  },
  {
   "cell_type": "markdown",
   "id": "950563f0",
   "metadata": {
    "papermill": {
     "duration": 0.013721,
     "end_time": "2024-04-06T17:58:44.920764",
     "exception": false,
     "start_time": "2024-04-06T17:58:44.907043",
     "status": "completed"
    },
    "tags": []
   },
   "source": [
    "The dataset contains no null values"
   ]
  },
  {
   "cell_type": "code",
   "execution_count": 15,
   "id": "ebe8566b",
   "metadata": {
    "execution": {
     "iopub.execute_input": "2024-04-06T17:58:44.950017Z",
     "iopub.status.busy": "2024-04-06T17:58:44.949401Z",
     "iopub.status.idle": "2024-04-06T17:59:04.938593Z",
     "shell.execute_reply": "2024-04-06T17:59:04.937454Z"
    },
    "papermill": {
     "duration": 20.006211,
     "end_time": "2024-04-06T17:59:04.940758",
     "exception": false,
     "start_time": "2024-04-06T17:58:44.934547",
     "status": "completed"
    },
    "tags": []
   },
   "outputs": [
    {
     "name": "stdout",
     "output_type": "stream",
     "text": [
      "Unique values for column step\n",
      "step\n",
      "19     51352\n",
      "18     49579\n",
      "187    49083\n",
      "235    47491\n",
      "307    46968\n",
      "       ...  \n",
      "432        4\n",
      "706        4\n",
      "693        4\n",
      "112        2\n",
      "662        2\n",
      "Name: count, Length: 743, dtype: int64\n",
      "======================================================\n",
      "Unique values for column type\n",
      "type\n",
      "CASH_OUT    2237500\n",
      "PAYMENT     2151495\n",
      "CASH_IN     1399284\n",
      "TRANSFER     532909\n",
      "DEBIT         41432\n",
      "Name: count, dtype: int64\n",
      "======================================================\n",
      "Unique values for column amount\n",
      "amount\n",
      "10000000.00    3207\n",
      "10000.00         88\n",
      "5000.00          79\n",
      "15000.00         68\n",
      "500.00           65\n",
      "               ... \n",
      "8513.48           1\n",
      "189137.90         1\n",
      "1615.78           1\n",
      "128891.19         1\n",
      "12257.89          1\n",
      "Name: count, Length: 5316900, dtype: int64\n",
      "======================================================\n",
      "Unique values for column nameOrig\n",
      "nameOrig\n",
      "C1902386530    3\n",
      "C363736674     3\n",
      "C545315117     3\n",
      "C724452879     3\n",
      "C1784010646    3\n",
      "              ..\n",
      "C98968405      1\n",
      "C720209255     1\n",
      "C1567523029    1\n",
      "C644777639     1\n",
      "C1280323807    1\n",
      "Name: count, Length: 6353307, dtype: int64\n",
      "======================================================\n",
      "Unique values for column oldbalanceOrg\n",
      "oldbalanceOrg\n",
      "0.00         2102449\n",
      "184.00           918\n",
      "133.00           914\n",
      "195.00           912\n",
      "164.00           909\n",
      "              ...   \n",
      "34577.49           1\n",
      "184929.21          1\n",
      "29320.33           1\n",
      "82645.19           1\n",
      "641239.85          1\n",
      "Name: count, Length: 1845844, dtype: int64\n",
      "======================================================\n",
      "Unique values for column newbalanceOrig\n",
      "newbalanceOrig\n",
      "0.00         3609566\n",
      "5888.64            4\n",
      "15073.44           4\n",
      "5122.00            4\n",
      "36875.73           4\n",
      "              ...   \n",
      "51345.64           1\n",
      "46527.23           1\n",
      "30839.51           1\n",
      "25521.75           1\n",
      "160296.36          1\n",
      "Name: count, Length: 2682586, dtype: int64\n",
      "======================================================\n",
      "Unique values for column nameDest\n",
      "nameDest\n",
      "C1286084959    113\n",
      "C985934102     109\n",
      "C665576141     105\n",
      "C2083562754    102\n",
      "C248609774     101\n",
      "              ... \n",
      "M1470027725      1\n",
      "M1330329251      1\n",
      "M1784358659      1\n",
      "M2081431099      1\n",
      "C2080388513      1\n",
      "Name: count, Length: 2722362, dtype: int64\n",
      "======================================================\n",
      "Unique values for column oldbalanceDest\n",
      "oldbalanceDest\n",
      "0.00           2704388\n",
      "10000000.00        615\n",
      "20000000.00        219\n",
      "30000000.00         86\n",
      "40000000.00         31\n",
      "                ...   \n",
      "967022.27            1\n",
      "327279.67            1\n",
      "2039554.04           1\n",
      "587552.25            1\n",
      "6510099.11           1\n",
      "Name: count, Length: 3614697, dtype: int64\n",
      "======================================================\n",
      "Unique values for column newbalanceDest\n",
      "newbalanceDest\n",
      "0.00           2439433\n",
      "10000000.00         53\n",
      "971418.91           32\n",
      "19169204.93         29\n",
      "1254956.07          25\n",
      "                ...   \n",
      "188439.36            1\n",
      "1347758.15           1\n",
      "3878719.83           1\n",
      "1605826.83           1\n",
      "7360101.63           1\n",
      "Name: count, Length: 3555499, dtype: int64\n",
      "======================================================\n",
      "Unique values for column isFraud\n",
      "isFraud\n",
      "0    6354407\n",
      "1       8213\n",
      "Name: count, dtype: int64\n",
      "======================================================\n",
      "Unique values for column isFlaggedFraud\n",
      "isFlaggedFraud\n",
      "0    6362604\n",
      "1         16\n",
      "Name: count, dtype: int64\n",
      "======================================================\n"
     ]
    }
   ],
   "source": [
    "# printing unique values counts for each column\n",
    "for col in df.columns:\n",
    "    print(f\"Unique values for column {col}\")\n",
    "    print(df[col].value_counts())\n",
    "    print(\"======================================================\")"
   ]
  },
  {
   "cell_type": "markdown",
   "id": "005ef7d0",
   "metadata": {
    "papermill": {
     "duration": 0.015073,
     "end_time": "2024-04-06T17:59:04.970870",
     "exception": false,
     "start_time": "2024-04-06T17:59:04.955797",
     "status": "completed"
    },
    "tags": []
   },
   "source": [
    "# EDA"
   ]
  },
  {
   "cell_type": "code",
   "execution_count": 16,
   "id": "e292bf35",
   "metadata": {
    "execution": {
     "iopub.execute_input": "2024-04-06T17:59:05.006403Z",
     "iopub.status.busy": "2024-04-06T17:59:05.006024Z",
     "iopub.status.idle": "2024-04-06T17:59:05.021849Z",
     "shell.execute_reply": "2024-04-06T17:59:05.020977Z"
    },
    "papermill": {
     "duration": 0.033639,
     "end_time": "2024-04-06T17:59:05.023654",
     "exception": false,
     "start_time": "2024-04-06T17:59:04.990015",
     "status": "completed"
    },
    "tags": []
   },
   "outputs": [
    {
     "data": {
      "text/html": [
       "<div>\n",
       "<style scoped>\n",
       "    .dataframe tbody tr th:only-of-type {\n",
       "        vertical-align: middle;\n",
       "    }\n",
       "\n",
       "    .dataframe tbody tr th {\n",
       "        vertical-align: top;\n",
       "    }\n",
       "\n",
       "    .dataframe thead th {\n",
       "        text-align: right;\n",
       "    }\n",
       "</style>\n",
       "<table border=\"1\" class=\"dataframe\">\n",
       "  <thead>\n",
       "    <tr style=\"text-align: right;\">\n",
       "      <th></th>\n",
       "      <th>step</th>\n",
       "      <th>type</th>\n",
       "      <th>amount</th>\n",
       "      <th>nameOrig</th>\n",
       "      <th>oldbalanceOrg</th>\n",
       "      <th>newbalanceOrig</th>\n",
       "      <th>nameDest</th>\n",
       "      <th>oldbalanceDest</th>\n",
       "      <th>newbalanceDest</th>\n",
       "      <th>isFraud</th>\n",
       "      <th>isFlaggedFraud</th>\n",
       "    </tr>\n",
       "  </thead>\n",
       "  <tbody>\n",
       "    <tr>\n",
       "      <th>0</th>\n",
       "      <td>1</td>\n",
       "      <td>PAYMENT</td>\n",
       "      <td>9839.64</td>\n",
       "      <td>C1231006815</td>\n",
       "      <td>170136.0</td>\n",
       "      <td>160296.36</td>\n",
       "      <td>M1979787155</td>\n",
       "      <td>0.0</td>\n",
       "      <td>0.0</td>\n",
       "      <td>0</td>\n",
       "      <td>0</td>\n",
       "    </tr>\n",
       "    <tr>\n",
       "      <th>1</th>\n",
       "      <td>1</td>\n",
       "      <td>PAYMENT</td>\n",
       "      <td>1864.28</td>\n",
       "      <td>C1666544295</td>\n",
       "      <td>21249.0</td>\n",
       "      <td>19384.72</td>\n",
       "      <td>M2044282225</td>\n",
       "      <td>0.0</td>\n",
       "      <td>0.0</td>\n",
       "      <td>0</td>\n",
       "      <td>0</td>\n",
       "    </tr>\n",
       "    <tr>\n",
       "      <th>2</th>\n",
       "      <td>1</td>\n",
       "      <td>TRANSFER</td>\n",
       "      <td>181.00</td>\n",
       "      <td>C1305486145</td>\n",
       "      <td>181.0</td>\n",
       "      <td>0.00</td>\n",
       "      <td>C553264065</td>\n",
       "      <td>0.0</td>\n",
       "      <td>0.0</td>\n",
       "      <td>1</td>\n",
       "      <td>0</td>\n",
       "    </tr>\n",
       "    <tr>\n",
       "      <th>3</th>\n",
       "      <td>1</td>\n",
       "      <td>CASH_OUT</td>\n",
       "      <td>181.00</td>\n",
       "      <td>C840083671</td>\n",
       "      <td>181.0</td>\n",
       "      <td>0.00</td>\n",
       "      <td>C38997010</td>\n",
       "      <td>21182.0</td>\n",
       "      <td>0.0</td>\n",
       "      <td>1</td>\n",
       "      <td>0</td>\n",
       "    </tr>\n",
       "    <tr>\n",
       "      <th>4</th>\n",
       "      <td>1</td>\n",
       "      <td>PAYMENT</td>\n",
       "      <td>11668.14</td>\n",
       "      <td>C2048537720</td>\n",
       "      <td>41554.0</td>\n",
       "      <td>29885.86</td>\n",
       "      <td>M1230701703</td>\n",
       "      <td>0.0</td>\n",
       "      <td>0.0</td>\n",
       "      <td>0</td>\n",
       "      <td>0</td>\n",
       "    </tr>\n",
       "  </tbody>\n",
       "</table>\n",
       "</div>"
      ],
      "text/plain": [
       "   step      type    amount     nameOrig  oldbalanceOrg  newbalanceOrig  \\\n",
       "0     1   PAYMENT   9839.64  C1231006815       170136.0       160296.36   \n",
       "1     1   PAYMENT   1864.28  C1666544295        21249.0        19384.72   \n",
       "2     1  TRANSFER    181.00  C1305486145          181.0            0.00   \n",
       "3     1  CASH_OUT    181.00   C840083671          181.0            0.00   \n",
       "4     1   PAYMENT  11668.14  C2048537720        41554.0        29885.86   \n",
       "\n",
       "      nameDest  oldbalanceDest  newbalanceDest  isFraud  isFlaggedFraud  \n",
       "0  M1979787155             0.0             0.0        0               0  \n",
       "1  M2044282225             0.0             0.0        0               0  \n",
       "2   C553264065             0.0             0.0        1               0  \n",
       "3    C38997010         21182.0             0.0        1               0  \n",
       "4  M1230701703             0.0             0.0        0               0  "
      ]
     },
     "execution_count": 16,
     "metadata": {},
     "output_type": "execute_result"
    }
   ],
   "source": [
    "df.head()"
   ]
  },
  {
   "cell_type": "code",
   "execution_count": 17,
   "id": "c1880cfa",
   "metadata": {
    "execution": {
     "iopub.execute_input": "2024-04-06T17:59:05.055004Z",
     "iopub.status.busy": "2024-04-06T17:59:05.054715Z",
     "iopub.status.idle": "2024-04-06T17:59:06.364047Z",
     "shell.execute_reply": "2024-04-06T17:59:06.363147Z"
    },
    "papermill": {
     "duration": 1.327362,
     "end_time": "2024-04-06T17:59:06.366336",
     "exception": false,
     "start_time": "2024-04-06T17:59:05.038974",
     "status": "completed"
    },
    "tags": []
   },
   "outputs": [
    {
     "data": {
      "image/png": "[encoded data removed]",
      "text/plain": [
       "<Figure size 800x600 with 1 Axes>"
      ]
     },
     "metadata": {},
     "output_type": "display_data"
    }
   ],
   "source": [
    "sns.set_style(\"dark\") # set the style of the plot as dark grid\n",
    "sns.set_palette(\"pastel\")\n",
    "plt.figure(figsize = (8,6))\n",
    "df['type'].value_counts().plot(kind = 'bar', color = '#F47F10')\n",
    "plt.title('Type of transaction', color = '#F41010', fontsize = 20)\n",
    "plt.xticks(rotation = 45, color = '#F41010')\n",
    "plt.xlabel('Type', fontsize = 18, color = '#F41010')\n",
    "plt.ylabel('count', fontsize = 18, color = '#F41010')\n",
    "plt.show()"
   ]
  },
  {
   "cell_type": "code",
   "execution_count": 18,
   "id": "988bc2b0",
   "metadata": {
    "execution": {
     "iopub.execute_input": "2024-04-06T17:59:06.398311Z",
     "iopub.status.busy": "2024-04-06T17:59:06.397997Z",
     "iopub.status.idle": "2024-04-06T17:59:09.563651Z",
     "shell.execute_reply": "2024-04-06T17:59:09.562756Z"
    },
    "papermill": {
     "duration": 3.184087,
     "end_time": "2024-04-06T17:59:09.565940",
     "exception": false,
     "start_time": "2024-04-06T17:59:06.381853",
     "status": "completed"
    },
    "tags": []
   },
   "outputs": [
    {
     "data": {
      "image/png": "[encoded data removed]",
      "text/plain": [
       "<Figure size 1000x500 with 1 Axes>"
      ]
     },
     "metadata": {},
     "output_type": "display_data"
    }
   ],
   "source": [
    "# Transaction amount\n",
    "sns.set_style(\"dark\") # set the style of the plot as dark grid\n",
    "sns.set_palette(\"pastel\")\n",
    "plt.figure(figsize = (10,5))\n",
    "df['amount'].value_counts().sort_values(ascending = False).head().plot(kind = 'bar',  color = '#F47F10')\n",
    "plt.title(\"Amount of the transaction\", fontsize = 20, color = \"#F41010\")\n",
    "plt.xticks(rotation = 0, fontsize = 12, color = '#F41010')\n",
    "plt.xlabel('Amount', fontsize = 16, color = '#F41010')\n",
    "plt.ylabel('Count', fontsize = 16, color = '#F41010')\n",
    "plt.show()"
   ]
  },
  {
   "cell_type": "markdown",
   "id": "8ace21ac",
   "metadata": {
    "papermill": {
     "duration": 0.015488,
     "end_time": "2024-04-06T17:59:09.597349",
     "exception": false,
     "start_time": "2024-04-06T17:59:09.581861",
     "status": "completed"
    },
    "tags": []
   },
   "source": [
    "- The most frequent transaction amount is 10,000,000,dollar occurring 3207 times. This suggests that there may be a common transaction size or a default value used for certain types of transactions.\n",
    "- The distribution of transaction amounts appears to be heavily skewed, with a significant number of transactions being of the dominant amount. This could indicate a specific type of transaction or a system-generated value.\n",
    "- While 10,000,000 dollar is the most common transaction amount, there are also other amounts occurring with lesser frequency. This indicates some variability in the transaction sizes, although they are less common compared to the dominant amount.\n",
    "- It might be worth investigating transactions that are significantly different from the most common amount. For instance, the presence of transactions with amounts much smaller than 10,000,000 dollar (e.g., 500 dollar or 5,000 dollar) could be outliers or represent a different category of transactions.\n"
   ]
  },
  {
   "cell_type": "code",
   "execution_count": 19,
   "id": "36b7d9d0",
   "metadata": {
    "execution": {
     "iopub.execute_input": "2024-04-06T17:59:09.673704Z",
     "iopub.status.busy": "2024-04-06T17:59:09.673375Z",
     "iopub.status.idle": "2024-04-06T17:59:11.754271Z",
     "shell.execute_reply": "2024-04-06T17:59:11.753175Z"
    },
    "papermill": {
     "duration": 2.143604,
     "end_time": "2024-04-06T17:59:11.756590",
     "exception": false,
     "start_time": "2024-04-06T17:59:09.612986",
     "status": "completed"
    },
    "tags": []
   },
   "outputs": [
    {
     "data": {
      "text/plain": [
       "type\n",
       "CASH_IN     1399284\n",
       "CASH_OUT    2237500\n",
       "DEBIT         41432\n",
       "PAYMENT     2151495\n",
       "TRANSFER     532909\n",
       "Name: amount, dtype: int64"
      ]
     },
     "execution_count": 19,
     "metadata": {},
     "output_type": "execute_result"
    }
   ],
   "source": [
    "df.groupby('type').count()['amount']"
   ]
  },
  {
   "cell_type": "code",
   "execution_count": 20,
   "id": "fa9d7201",
   "metadata": {
    "execution": {
     "iopub.execute_input": "2024-04-06T17:59:11.793085Z",
     "iopub.status.busy": "2024-04-06T17:59:11.792399Z",
     "iopub.status.idle": "2024-04-06T17:59:14.082763Z",
     "shell.execute_reply": "2024-04-06T17:59:14.081580Z"
    },
    "papermill": {
     "duration": 2.313662,
     "end_time": "2024-04-06T17:59:14.087377",
     "exception": false,
     "start_time": "2024-04-06T17:59:11.773715",
     "status": "completed"
    },
    "tags": []
   },
   "outputs": [
    {
     "data": {
      "image/png": "[encoded data removed]",
      "text/plain": [
       "<Figure size 600x600 with 1 Axes>"
      ]
     },
     "metadata": {},
     "output_type": "display_data"
    }
   ],
   "source": [
    "counts = df.groupby('type').count()['amount']\n",
    "plt.figure(figsize = (6,6))\n",
    "plt.pie(counts, labels = counts.index, autopct = \"%1.1f%%\", colors=['#F47F10', '#F41010', '#F47810', '#F4C010','#F4D510'], shadow = True,explode = (0.1, 0, 0, 0, 0),textprops={'fontsize': 15})\n",
    "plt.title('Count of each type of transaction', fontweight = 'bold', fontsize = 18, fontfamily = 'times new roman')\n",
    "plt.show()"
   ]
  },
  {
   "cell_type": "markdown",
   "id": "7931c79f",
   "metadata": {
    "papermill": {
     "duration": 0.017261,
     "end_time": "2024-04-06T17:59:14.138557",
     "exception": false,
     "start_time": "2024-04-06T17:59:14.121296",
     "status": "completed"
    },
    "tags": []
   },
   "source": [
    "## Upon checking plotting the distribution of type of amounts it can be seen that:\n",
    "- There are five types of transaction that includes CASH-OUT, CASH IN, DEBIT, TRANSFER, PAYMENT\n",
    "- CASH-OUT has the hight count, followed by CASH-IN and PAYMENT. This shows that these types of payement are most common in making fraud.\n",
    "- DEBIT transactions have the lowest count among the five types, indicating that they are less common in the dataset.\n",
    "- CASH_OUT and PAYMENT transactions typically involve the movement of funds out of an account, suggesting expenditures or withdrawals.\n",
    "- CASH_IN transactions likely involve the deposit or addition of funds into an account.\n",
    "- TRANSFER transactions may involve moving funds between accounts, either within the same bank or across different financial institutions.\n",
    "- DEBIT transactions could represent direct charges to an account, such as ATM withdrawals or purchase transactions.\n",
    "- Anomalies in the frequency or pattern of certain transaction types, such as an unusually high number of CASH_OUT transactions, could indicate fraudulent activities like **money laundering or unauthorized fund transfers**.\n",
    "- Understanding the distribution of transaction types can aid in risk assessment and mitigation strategies for financial institutions.\n",
    "- Higher frequencies of certain transaction types may require enhanced security measures or closer monitoring to prevent fraud or financial loss.\n",
    "- Analysis of transaction types can provide insights into customer behavior and preferences, informing marketing strategies or product offerings tailored to specific needs."
   ]
  },
  {
   "cell_type": "code",
   "execution_count": 21,
   "id": "584fa0b6",
   "metadata": {
    "execution": {
     "iopub.execute_input": "2024-04-06T17:59:14.173570Z",
     "iopub.status.busy": "2024-04-06T17:59:14.172995Z",
     "iopub.status.idle": "2024-04-06T17:59:16.406558Z",
     "shell.execute_reply": "2024-04-06T17:59:16.405628Z"
    },
    "papermill": {
     "duration": 2.253413,
     "end_time": "2024-04-06T17:59:16.408579",
     "exception": false,
     "start_time": "2024-04-06T17:59:14.155166",
     "status": "completed"
    },
    "tags": []
   },
   "outputs": [
    {
     "data": {
      "text/html": [
       "<div>\n",
       "<style scoped>\n",
       "    .dataframe tbody tr th:only-of-type {\n",
       "        vertical-align: middle;\n",
       "    }\n",
       "\n",
       "    .dataframe tbody tr th {\n",
       "        vertical-align: top;\n",
       "    }\n",
       "\n",
       "    .dataframe thead th {\n",
       "        text-align: right;\n",
       "    }\n",
       "</style>\n",
       "<table border=\"1\" class=\"dataframe\">\n",
       "  <thead>\n",
       "    <tr style=\"text-align: right;\">\n",
       "      <th></th>\n",
       "      <th></th>\n",
       "      <th>step</th>\n",
       "      <th>amount</th>\n",
       "      <th>nameOrig</th>\n",
       "      <th>oldbalanceOrg</th>\n",
       "      <th>newbalanceOrig</th>\n",
       "      <th>nameDest</th>\n",
       "      <th>oldbalanceDest</th>\n",
       "      <th>newbalanceDest</th>\n",
       "      <th>isFlaggedFraud</th>\n",
       "    </tr>\n",
       "    <tr>\n",
       "      <th>type</th>\n",
       "      <th>isFraud</th>\n",
       "      <th></th>\n",
       "      <th></th>\n",
       "      <th></th>\n",
       "      <th></th>\n",
       "      <th></th>\n",
       "      <th></th>\n",
       "      <th></th>\n",
       "      <th></th>\n",
       "      <th></th>\n",
       "    </tr>\n",
       "  </thead>\n",
       "  <tbody>\n",
       "    <tr>\n",
       "      <th>CASH_IN</th>\n",
       "      <th>0</th>\n",
       "      <td>1399284</td>\n",
       "      <td>1399284</td>\n",
       "      <td>1399284</td>\n",
       "      <td>1399284</td>\n",
       "      <td>1399284</td>\n",
       "      <td>1399284</td>\n",
       "      <td>1399284</td>\n",
       "      <td>1399284</td>\n",
       "      <td>1399284</td>\n",
       "    </tr>\n",
       "    <tr>\n",
       "      <th rowspan=\"2\" valign=\"top\">CASH_OUT</th>\n",
       "      <th>0</th>\n",
       "      <td>2233384</td>\n",
       "      <td>2233384</td>\n",
       "      <td>2233384</td>\n",
       "      <td>2233384</td>\n",
       "      <td>2233384</td>\n",
       "      <td>2233384</td>\n",
       "      <td>2233384</td>\n",
       "      <td>2233384</td>\n",
       "      <td>2233384</td>\n",
       "    </tr>\n",
       "    <tr>\n",
       "      <th>1</th>\n",
       "      <td>4116</td>\n",
       "      <td>4116</td>\n",
       "      <td>4116</td>\n",
       "      <td>4116</td>\n",
       "      <td>4116</td>\n",
       "      <td>4116</td>\n",
       "      <td>4116</td>\n",
       "      <td>4116</td>\n",
       "      <td>4116</td>\n",
       "    </tr>\n",
       "    <tr>\n",
       "      <th>DEBIT</th>\n",
       "      <th>0</th>\n",
       "      <td>41432</td>\n",
       "      <td>41432</td>\n",
       "      <td>41432</td>\n",
       "      <td>41432</td>\n",
       "      <td>41432</td>\n",
       "      <td>41432</td>\n",
       "      <td>41432</td>\n",
       "      <td>41432</td>\n",
       "      <td>41432</td>\n",
       "    </tr>\n",
       "    <tr>\n",
       "      <th>PAYMENT</th>\n",
       "      <th>0</th>\n",
       "      <td>2151495</td>\n",
       "      <td>2151495</td>\n",
       "      <td>2151495</td>\n",
       "      <td>2151495</td>\n",
       "      <td>2151495</td>\n",
       "      <td>2151495</td>\n",
       "      <td>2151495</td>\n",
       "      <td>2151495</td>\n",
       "      <td>2151495</td>\n",
       "    </tr>\n",
       "    <tr>\n",
       "      <th rowspan=\"2\" valign=\"top\">TRANSFER</th>\n",
       "      <th>0</th>\n",
       "      <td>528812</td>\n",
       "      <td>528812</td>\n",
       "      <td>528812</td>\n",
       "      <td>528812</td>\n",
       "      <td>528812</td>\n",
       "      <td>528812</td>\n",
       "      <td>528812</td>\n",
       "      <td>528812</td>\n",
       "      <td>528812</td>\n",
       "    </tr>\n",
       "    <tr>\n",
       "      <th>1</th>\n",
       "      <td>4097</td>\n",
       "      <td>4097</td>\n",
       "      <td>4097</td>\n",
       "      <td>4097</td>\n",
       "      <td>4097</td>\n",
       "      <td>4097</td>\n",
       "      <td>4097</td>\n",
       "      <td>4097</td>\n",
       "      <td>4097</td>\n",
       "    </tr>\n",
       "  </tbody>\n",
       "</table>\n",
       "</div>"
      ],
      "text/plain": [
       "                     step   amount  nameOrig  oldbalanceOrg  newbalanceOrig  \\\n",
       "type     isFraud                                                              \n",
       "CASH_IN  0        1399284  1399284   1399284        1399284         1399284   \n",
       "CASH_OUT 0        2233384  2233384   2233384        2233384         2233384   \n",
       "         1           4116     4116      4116           4116            4116   \n",
       "DEBIT    0          41432    41432     41432          41432           41432   \n",
       "PAYMENT  0        2151495  2151495   2151495        2151495         2151495   \n",
       "TRANSFER 0         528812   528812    528812         528812          528812   \n",
       "         1           4097     4097      4097           4097            4097   \n",
       "\n",
       "                  nameDest  oldbalanceDest  newbalanceDest  isFlaggedFraud  \n",
       "type     isFraud                                                            \n",
       "CASH_IN  0         1399284         1399284         1399284         1399284  \n",
       "CASH_OUT 0         2233384         2233384         2233384         2233384  \n",
       "         1            4116            4116            4116            4116  \n",
       "DEBIT    0           41432           41432           41432           41432  \n",
       "PAYMENT  0         2151495         2151495         2151495         2151495  \n",
       "TRANSFER 0          528812          528812          528812          528812  \n",
       "         1            4097            4097            4097            4097  "
      ]
     },
     "execution_count": 21,
     "metadata": {},
     "output_type": "execute_result"
    }
   ],
   "source": [
    "df.groupby(['type','isFraud']).count()"
   ]
  },
  {
   "cell_type": "markdown",
   "id": "d5f9bf56",
   "metadata": {
    "papermill": {
     "duration": 0.017381,
     "end_time": "2024-04-06T17:59:16.444168",
     "exception": false,
     "start_time": "2024-04-06T17:59:16.426787",
     "status": "completed"
    },
    "tags": []
   },
   "source": [
    "- There is a fraud transaction present in CAHS-OUT and TRANSFER\n",
    "- CASH_OUT and TRANSFER types have relatively higher counts of fraudulent transactions compared to others, which could indicate that these types are more vulnerable to fraudulent activities.\n",
    "- The presence of fraudulent transactions in certain types highlights the challenges in fraud detection and prevention, especially in high-risk transaction types like CASH_OUT and TRANSFER."
   ]
  },
  {
   "cell_type": "markdown",
   "id": "b57d883a",
   "metadata": {
    "papermill": {
     "duration": 0.016846,
     "end_time": "2024-04-06T17:59:16.478360",
     "exception": false,
     "start_time": "2024-04-06T17:59:16.461514",
     "status": "completed"
    },
    "tags": []
   },
   "source": [
    "## Finding the correlation between the attributes (Pearson correlation matrix)"
   ]
  },
  {
   "cell_type": "code",
   "execution_count": 22,
   "id": "232a2034",
   "metadata": {
    "execution": {
     "iopub.execute_input": "2024-04-06T17:59:16.514373Z",
     "iopub.status.busy": "2024-04-06T17:59:16.513557Z",
     "iopub.status.idle": "2024-04-06T17:59:18.009562Z",
     "shell.execute_reply": "2024-04-06T17:59:18.008381Z"
    },
    "papermill": {
     "duration": 1.516716,
     "end_time": "2024-04-06T17:59:18.012035",
     "exception": false,
     "start_time": "2024-04-06T17:59:16.495319",
     "status": "completed"
    },
    "tags": []
   },
   "outputs": [],
   "source": [
    "# selecting the columns of numerical type\n",
    "numeric_columns = df.select_dtypes(include=['int', 'float']).columns\n",
    "numeric_data = df[numeric_columns]\n",
    "\n",
    "# pearson corrleation matrix of the numerical data\n",
    "correlation = numeric_data.corr()"
   ]
  },
  {
   "cell_type": "code",
   "execution_count": 23,
   "id": "3d3fa882",
   "metadata": {
    "execution": {
     "iopub.execute_input": "2024-04-06T17:59:18.049883Z",
     "iopub.status.busy": "2024-04-06T17:59:18.049052Z",
     "iopub.status.idle": "2024-04-06T17:59:18.551895Z",
     "shell.execute_reply": "2024-04-06T17:59:18.550890Z"
    },
    "papermill": {
     "duration": 0.52466,
     "end_time": "2024-04-06T17:59:18.554824",
     "exception": false,
     "start_time": "2024-04-06T17:59:18.030164",
     "status": "completed"
    },
    "tags": []
   },
   "outputs": [
    {
     "data": {
      "image/png": "[encoded data removed]",
      "text/plain": [
       "<Figure size 1000x800 with 2 Axes>"
      ]
     },
     "metadata": {},
     "output_type": "display_data"
    }
   ],
   "source": [
    "# visulaising the correlation matrix\n",
    "plt.figure(figsize=(10, 8))\n",
    "sns.heatmap(correlation,vmin = -1, vmax = 1,cmap = \"Greys\",annot = True, fmt = '.2f')\n",
    "plt.title('Pearson Correlation Matrix', fontsize=16)\n",
    "plt.xticks(rotation = 45)\n",
    "plt.show()"
   ]
  },
  {
   "cell_type": "markdown",
   "id": "4bf189dd",
   "metadata": {
    "papermill": {
     "duration": 0.018482,
     "end_time": "2024-04-06T17:59:18.592470",
     "exception": false,
     "start_time": "2024-04-06T17:59:18.573988",
     "status": "completed"
    },
    "tags": []
   },
   "source": [
    "**Correlation coefficients reveal the intensity as well as sign of the correlations among the pairs of variables in your dataset. Here are some insights based on the correlation coefficients provided:**\n",
    "\n",
    "\n",
    "**Amount and New Balance in Destination Account:**.\n",
    "\n",
    "- The correlation between 'amount' and 'newcomerVolumeDest' is relatively strong and the relation is positive and linear (0.459).\n",
    "\n",
    "- This therefore indicates that the larger the transaction size on the sending side, the bigger the balances in the account on the receiving side at some point in time will be.\n",
    "\n",
    "\n",
    "**Amount and Old Balance in Destination Account:**.\n",
    "\n",
    "- The second relevance that far is analogous to 'amount' and 'oldbalanceDest' is even positive, as shown by a relatively high correlation coefficient of 0.294.\n",
    "\n",
    "- In the case of the transaction of a larger amount there is an almost certainty of an old balance on the account in the destination.\n",
    "\n",
    "\n",
    "**Old Balance in Origin Account and New Balance in Origin Account:**.\n",
    "\n",
    "- The degree of association between 'oldbalanceOrg' and 'newbalanceOrig' assessed by the univariate correlation coefficient is as close to 1( 0.998 ), thereby indicating a very strong and positive linear relationship.\n",
    "\n",
    "- From this, emerges the not-too-surprising fact that if old balance in the origin account is changed then the new balance in the origin account is almost similarly changed as it is with the normal banking transactions.\n",
    "\n",
    "\n",
    "**Is Fraud and Transaction Amount:**\n",
    "\n",
    "- The 'isfraud' dependent variable with the 'amount,' independent variable, is moderately strong (0.077), displaying a positive linear relationship.\n",
    "\n",
    "- This hints on the poor relevance as the size of the fraudulent transaction has no relation with active cyberfraud.\n",
    "\n",
    "\n",
    "**Is Fraud and Flagged Fraud:** \n",
    "\n",
    "- The metric 'isFraud' and 'isFlaggedFraud' are rather weak (0.044), a positive linear association exists.\n",
    "\n",
    "- It also implies that holders of these crypto assets do not have such scrutiny on the validity of their crypto transactions.\n",
    "\n",
    "\n",
    "**Step and Fraudulent Activity:**\n",
    "\n",
    "- There is the correlation coefficient between step and isFraud which is moderately high (0.032), that is to say, these metrics only correlate with each other minimally.\n",
    "\n",
    "- Occasionally there is a risk of an increase in attempts of fraud as the process goes (the more time goes by, it progresses), but on the whole the dependence between these two is not quite clear.\n"
   ]
  },
  {
   "cell_type": "markdown",
   "id": "ff005328",
   "metadata": {
    "papermill": {
     "duration": 0.018071,
     "end_time": "2024-04-06T17:59:18.629251",
     "exception": false,
     "start_time": "2024-04-06T17:59:18.611180",
     "status": "completed"
    },
    "tags": []
   },
   "source": [
    "# Implemention of machine learning algorithm:"
   ]
  },
  {
   "cell_type": "markdown",
   "id": "5e6673c6",
   "metadata": {
    "papermill": {
     "duration": 0.01782,
     "end_time": "2024-04-06T17:59:18.665125",
     "exception": false,
     "start_time": "2024-04-06T17:59:18.647305",
     "status": "completed"
    },
    "tags": []
   },
   "source": [
    "**Important Note:** Transactions identified as fraudulent are annulled. Hence, for fraud detection analysis, the following columns should not be utilized: oldbalanceOrg, newbalanceOrig, oldbalanceDest, newbalanceDest."
   ]
  },
  {
   "cell_type": "code",
   "execution_count": 24,
   "id": "a0795464",
   "metadata": {
    "execution": {
     "iopub.execute_input": "2024-04-06T17:59:18.703128Z",
     "iopub.status.busy": "2024-04-06T17:59:18.702324Z",
     "iopub.status.idle": "2024-04-06T17:59:19.003982Z",
     "shell.execute_reply": "2024-04-06T17:59:19.002995Z"
    },
    "papermill": {
     "duration": 0.32327,
     "end_time": "2024-04-06T17:59:19.006452",
     "exception": false,
     "start_time": "2024-04-06T17:59:18.683182",
     "status": "completed"
    },
    "tags": []
   },
   "outputs": [],
   "source": [
    "# Removing the columns that are not necessary for the data modeling\n",
    "# the columns that are not necessary are oldbalanceOrg, newbalanceOrig, oldbalanceDest, newbalanceDest\n",
    "df.drop(['oldbalanceOrg','newbalanceOrig','oldbalanceDest','newbalanceDest'], axis = 1, inplace = True)"
   ]
  },
  {
   "cell_type": "code",
   "execution_count": 25,
   "id": "2fc3e1a5",
   "metadata": {
    "execution": {
     "iopub.execute_input": "2024-04-06T17:59:19.044578Z",
     "iopub.status.busy": "2024-04-06T17:59:19.044042Z",
     "iopub.status.idle": "2024-04-06T17:59:19.291111Z",
     "shell.execute_reply": "2024-04-06T17:59:19.290128Z"
    },
    "papermill": {
     "duration": 0.268536,
     "end_time": "2024-04-06T17:59:19.293570",
     "exception": false,
     "start_time": "2024-04-06T17:59:19.025034",
     "status": "completed"
    },
    "tags": []
   },
   "outputs": [],
   "source": [
    "# nameDest and nameOrig can also be removed\n",
    "df.drop(['nameOrig', 'nameDest'], axis = 1, inplace = True)"
   ]
  },
  {
   "cell_type": "code",
   "execution_count": 26,
   "id": "950d823c",
   "metadata": {
    "execution": {
     "iopub.execute_input": "2024-04-06T17:59:19.331663Z",
     "iopub.status.busy": "2024-04-06T17:59:19.331343Z",
     "iopub.status.idle": "2024-04-06T17:59:19.341608Z",
     "shell.execute_reply": "2024-04-06T17:59:19.340797Z"
    },
    "papermill": {
     "duration": 0.031467,
     "end_time": "2024-04-06T17:59:19.343605",
     "exception": false,
     "start_time": "2024-04-06T17:59:19.312138",
     "status": "completed"
    },
    "tags": []
   },
   "outputs": [
    {
     "data": {
      "text/html": [
       "<div>\n",
       "<style scoped>\n",
       "    .dataframe tbody tr th:only-of-type {\n",
       "        vertical-align: middle;\n",
       "    }\n",
       "\n",
       "    .dataframe tbody tr th {\n",
       "        vertical-align: top;\n",
       "    }\n",
       "\n",
       "    .dataframe thead th {\n",
       "        text-align: right;\n",
       "    }\n",
       "</style>\n",
       "<table border=\"1\" class=\"dataframe\">\n",
       "  <thead>\n",
       "    <tr style=\"text-align: right;\">\n",
       "      <th></th>\n",
       "      <th>step</th>\n",
       "      <th>type</th>\n",
       "      <th>amount</th>\n",
       "      <th>isFraud</th>\n",
       "      <th>isFlaggedFraud</th>\n",
       "    </tr>\n",
       "  </thead>\n",
       "  <tbody>\n",
       "    <tr>\n",
       "      <th>0</th>\n",
       "      <td>1</td>\n",
       "      <td>PAYMENT</td>\n",
       "      <td>9839.64</td>\n",
       "      <td>0</td>\n",
       "      <td>0</td>\n",
       "    </tr>\n",
       "    <tr>\n",
       "      <th>1</th>\n",
       "      <td>1</td>\n",
       "      <td>PAYMENT</td>\n",
       "      <td>1864.28</td>\n",
       "      <td>0</td>\n",
       "      <td>0</td>\n",
       "    </tr>\n",
       "    <tr>\n",
       "      <th>2</th>\n",
       "      <td>1</td>\n",
       "      <td>TRANSFER</td>\n",
       "      <td>181.00</td>\n",
       "      <td>1</td>\n",
       "      <td>0</td>\n",
       "    </tr>\n",
       "    <tr>\n",
       "      <th>3</th>\n",
       "      <td>1</td>\n",
       "      <td>CASH_OUT</td>\n",
       "      <td>181.00</td>\n",
       "      <td>1</td>\n",
       "      <td>0</td>\n",
       "    </tr>\n",
       "    <tr>\n",
       "      <th>4</th>\n",
       "      <td>1</td>\n",
       "      <td>PAYMENT</td>\n",
       "      <td>11668.14</td>\n",
       "      <td>0</td>\n",
       "      <td>0</td>\n",
       "    </tr>\n",
       "  </tbody>\n",
       "</table>\n",
       "</div>"
      ],
      "text/plain": [
       "   step      type    amount  isFraud  isFlaggedFraud\n",
       "0     1   PAYMENT   9839.64        0               0\n",
       "1     1   PAYMENT   1864.28        0               0\n",
       "2     1  TRANSFER    181.00        1               0\n",
       "3     1  CASH_OUT    181.00        1               0\n",
       "4     1   PAYMENT  11668.14        0               0"
      ]
     },
     "execution_count": 26,
     "metadata": {},
     "output_type": "execute_result"
    }
   ],
   "source": [
    "# printing the data frame after removing the columns\n",
    "df.head()"
   ]
  },
  {
   "cell_type": "code",
   "execution_count": 27,
   "id": "543807d3",
   "metadata": {
    "execution": {
     "iopub.execute_input": "2024-04-06T17:59:19.381432Z",
     "iopub.status.busy": "2024-04-06T17:59:19.381136Z",
     "iopub.status.idle": "2024-04-06T17:59:21.023903Z",
     "shell.execute_reply": "2024-04-06T17:59:21.023089Z"
    },
    "papermill": {
     "duration": 1.664749,
     "end_time": "2024-04-06T17:59:21.026587",
     "exception": false,
     "start_time": "2024-04-06T17:59:19.361838",
     "status": "completed"
    },
    "tags": []
   },
   "outputs": [],
   "source": [
    "# encoding the categorical column into numerical data\n",
    "le = LabelEncoder()\n",
    "df['type'] = le.fit_transform(df['type'])"
   ]
  },
  {
   "cell_type": "code",
   "execution_count": 28,
   "id": "53375b9c",
   "metadata": {
    "execution": {
     "iopub.execute_input": "2024-04-06T17:59:21.065955Z",
     "iopub.status.busy": "2024-04-06T17:59:21.065193Z",
     "iopub.status.idle": "2024-04-06T17:59:21.151392Z",
     "shell.execute_reply": "2024-04-06T17:59:21.150590Z"
    },
    "papermill": {
     "duration": 0.108036,
     "end_time": "2024-04-06T17:59:21.153825",
     "exception": false,
     "start_time": "2024-04-06T17:59:21.045789",
     "status": "completed"
    },
    "tags": []
   },
   "outputs": [],
   "source": [
    "# separating feature variables and class variables\n",
    "X = df.drop('isFraud', axis = 1)\n",
    "y = df['isFraud']"
   ]
  },
  {
   "cell_type": "code",
   "execution_count": 29,
   "id": "ca0d8e8e",
   "metadata": {
    "execution": {
     "iopub.execute_input": "2024-04-06T17:59:21.192829Z",
     "iopub.status.busy": "2024-04-06T17:59:21.192497Z",
     "iopub.status.idle": "2024-04-06T17:59:21.633467Z",
     "shell.execute_reply": "2024-04-06T17:59:21.632632Z"
    },
    "papermill": {
     "duration": 0.46316,
     "end_time": "2024-04-06T17:59:21.635906",
     "exception": false,
     "start_time": "2024-04-06T17:59:21.172746",
     "status": "completed"
    },
    "tags": []
   },
   "outputs": [],
   "source": [
    "# standardizing the data\n",
    "sc = StandardScaler()\n",
    "X = sc.fit_transform(X)"
   ]
  },
  {
   "cell_type": "code",
   "execution_count": 30,
   "id": "cc222cb2",
   "metadata": {
    "execution": {
     "iopub.execute_input": "2024-04-06T17:59:21.674917Z",
     "iopub.status.busy": "2024-04-06T17:59:21.674343Z",
     "iopub.status.idle": "2024-04-06T17:59:22.574776Z",
     "shell.execute_reply": "2024-04-06T17:59:22.573654Z"
    },
    "papermill": {
     "duration": 0.922578,
     "end_time": "2024-04-06T17:59:22.577447",
     "exception": false,
     "start_time": "2024-04-06T17:59:21.654869",
     "status": "completed"
    },
    "tags": []
   },
   "outputs": [],
   "source": [
    "# splitting the data into training and testing set\n",
    "X_train, X_test, y_train, y_test = train_test_split(X,y, test_size = 0.3, random_state = 42)"
   ]
  },
  {
   "cell_type": "code",
   "execution_count": 49,
   "id": "e106afa2",
   "metadata": {},
   "outputs": [
    {
     "data": {
      "text/plain": [
       "array([[ 2.43113032e-01, -1.26963120e+00,  2.48993092e-01,\n",
       "        -1.58577857e-03],\n",
       "       [-1.60467997e+00,  9.52399323e-01, -2.78566769e-01,\n",
       "        -1.58577857e-03],\n",
       "       [-1.63980912e+00, -1.26963120e+00, -4.57022763e-02,\n",
       "        -1.58577857e-03],\n",
       "       ...,\n",
       "       [ 9.38670096e-01,  9.52399323e-01, -2.95869342e-01,\n",
       "        -1.58577857e-03],\n",
       "       [ 9.17592609e-01,  9.52399323e-01, -2.42423614e-01,\n",
       "        -1.58577857e-03],\n",
       "       [-7.26451359e-01, -1.26963120e+00,  1.49620190e-01,\n",
       "        -1.58577857e-03]])"
      ]
     },
     "execution_count": 49,
     "metadata": {},
     "output_type": "execute_result"
    }
   ],
   "source": [
    "X_test"
   ]
  },
  {
   "cell_type": "code",
   "execution_count": 50,
   "id": "0d2a66f2",
   "metadata": {},
   "outputs": [
    {
     "data": {
      "text/plain": [
       "3737323    0\n",
       "264914     0\n",
       "85647      0\n",
       "5899326    0\n",
       "2544263    0\n",
       "          ..\n",
       "6201010    0\n",
       "4682236    0\n",
       "5398320    0\n",
       "5319864    0\n",
       "1453256    0\n",
       "Name: isFraud, Length: 1908786, dtype: int64"
      ]
     },
     "execution_count": 50,
     "metadata": {},
     "output_type": "execute_result"
    }
   ],
   "source": [
    "y_test"
   ]
  },
  {
   "cell_type": "code",
   "execution_count": 52,
   "id": "74ab3cac",
   "metadata": {},
   "outputs": [
    {
     "data": {
      "text/html": [
       "<div>\n",
       "<style scoped>\n",
       "    .dataframe tbody tr th:only-of-type {\n",
       "        vertical-align: middle;\n",
       "    }\n",
       "\n",
       "    .dataframe tbody tr th {\n",
       "        vertical-align: top;\n",
       "    }\n",
       "\n",
       "    .dataframe thead th {\n",
       "        text-align: right;\n",
       "    }\n",
       "</style>\n",
       "<table border=\"1\" class=\"dataframe\">\n",
       "  <thead>\n",
       "    <tr style=\"text-align: right;\">\n",
       "      <th></th>\n",
       "      <th>step</th>\n",
       "      <th>type</th>\n",
       "      <th>amount</th>\n",
       "      <th>isFraud</th>\n",
       "      <th>isFlaggedFraud</th>\n",
       "    </tr>\n",
       "  </thead>\n",
       "  <tbody>\n",
       "    <tr>\n",
       "      <th>0</th>\n",
       "      <td>1</td>\n",
       "      <td>3</td>\n",
       "      <td>9839.64</td>\n",
       "      <td>0</td>\n",
       "      <td>0</td>\n",
       "    </tr>\n",
       "    <tr>\n",
       "      <th>1</th>\n",
       "      <td>1</td>\n",
       "      <td>3</td>\n",
       "      <td>1864.28</td>\n",
       "      <td>0</td>\n",
       "      <td>0</td>\n",
       "    </tr>\n",
       "    <tr>\n",
       "      <th>2</th>\n",
       "      <td>1</td>\n",
       "      <td>4</td>\n",
       "      <td>181.00</td>\n",
       "      <td>1</td>\n",
       "      <td>0</td>\n",
       "    </tr>\n",
       "    <tr>\n",
       "      <th>3</th>\n",
       "      <td>1</td>\n",
       "      <td>1</td>\n",
       "      <td>181.00</td>\n",
       "      <td>1</td>\n",
       "      <td>0</td>\n",
       "    </tr>\n",
       "    <tr>\n",
       "      <th>4</th>\n",
       "      <td>1</td>\n",
       "      <td>3</td>\n",
       "      <td>11668.14</td>\n",
       "      <td>0</td>\n",
       "      <td>0</td>\n",
       "    </tr>\n",
       "    <tr>\n",
       "      <th>...</th>\n",
       "      <td>...</td>\n",
       "      <td>...</td>\n",
       "      <td>...</td>\n",
       "      <td>...</td>\n",
       "      <td>...</td>\n",
       "    </tr>\n",
       "    <tr>\n",
       "      <th>6362615</th>\n",
       "      <td>743</td>\n",
       "      <td>1</td>\n",
       "      <td>339682.13</td>\n",
       "      <td>1</td>\n",
       "      <td>0</td>\n",
       "    </tr>\n",
       "    <tr>\n",
       "      <th>6362616</th>\n",
       "      <td>743</td>\n",
       "      <td>4</td>\n",
       "      <td>6311409.28</td>\n",
       "      <td>1</td>\n",
       "      <td>0</td>\n",
       "    </tr>\n",
       "    <tr>\n",
       "      <th>6362617</th>\n",
       "      <td>743</td>\n",
       "      <td>1</td>\n",
       "      <td>6311409.28</td>\n",
       "      <td>1</td>\n",
       "      <td>0</td>\n",
       "    </tr>\n",
       "    <tr>\n",
       "      <th>6362618</th>\n",
       "      <td>743</td>\n",
       "      <td>4</td>\n",
       "      <td>850002.52</td>\n",
       "      <td>1</td>\n",
       "      <td>0</td>\n",
       "    </tr>\n",
       "    <tr>\n",
       "      <th>6362619</th>\n",
       "      <td>743</td>\n",
       "      <td>1</td>\n",
       "      <td>850002.52</td>\n",
       "      <td>1</td>\n",
       "      <td>0</td>\n",
       "    </tr>\n",
       "  </tbody>\n",
       "</table>\n",
       "<p>6362620 rows × 5 columns</p>\n",
       "</div>"
      ],
      "text/plain": [
       "         step  type      amount  isFraud  isFlaggedFraud\n",
       "0           1     3     9839.64        0               0\n",
       "1           1     3     1864.28        0               0\n",
       "2           1     4      181.00        1               0\n",
       "3           1     1      181.00        1               0\n",
       "4           1     3    11668.14        0               0\n",
       "...       ...   ...         ...      ...             ...\n",
       "6362615   743     1   339682.13        1               0\n",
       "6362616   743     4  6311409.28        1               0\n",
       "6362617   743     1  6311409.28        1               0\n",
       "6362618   743     4   850002.52        1               0\n",
       "6362619   743     1   850002.52        1               0\n",
       "\n",
       "[6362620 rows x 5 columns]"
      ]
     },
     "execution_count": 52,
     "metadata": {},
     "output_type": "execute_result"
    }
   ],
   "source": [
    "df"
   ]
  },
  {
   "cell_type": "code",
   "execution_count": 54,
   "id": "c6d7ea12",
   "metadata": {},
   "outputs": [],
   "source": [
    "pd.merge(y_test,pd.read_parquet('Synthetic_Financial_datasets_log.parquet').drop(columns=['isFraud']),how='left',left_index=True,right_index=True).to_parquet('test-sample.parquet',index=False)"
   ]
  },
  {
   "cell_type": "markdown",
   "id": "8414994a",
   "metadata": {
    "papermill": {
     "duration": 0.02078,
     "end_time": "2024-04-06T17:59:22.619750",
     "exception": false,
     "start_time": "2024-04-06T17:59:22.598970",
     "status": "completed"
    },
    "tags": []
   },
   "source": [
    "### Logistic Regression"
   ]
  },
  {
   "cell_type": "code",
   "execution_count": 31,
   "id": "dcb904e5",
   "metadata": {
    "execution": {
     "iopub.execute_input": "2024-04-06T17:59:22.664706Z",
     "iopub.status.busy": "2024-04-06T17:59:22.663957Z",
     "iopub.status.idle": "2024-04-06T17:59:28.111457Z",
     "shell.execute_reply": "2024-04-06T17:59:28.110160Z"
    },
    "papermill": {
     "duration": 5.472757,
     "end_time": "2024-04-06T17:59:28.114903",
     "exception": false,
     "start_time": "2024-04-06T17:59:22.642146",
     "status": "completed"
    },
    "tags": []
   },
   "outputs": [
    {
     "data": {
      "text/html": [
       "<style>#sk-container-id-1 {\n",
       "  /* Definition of color scheme common for light and dark mode */\n",
       "  --sklearn-color-text: #000;\n",
       "  --sklearn-color-text-muted: #666;\n",
       "  --sklearn-color-line: gray;\n",
       "  /* Definition of color scheme for unfitted estimators */\n",
       "  --sklearn-color-unfitted-level-0: #fff5e6;\n",
       "  --sklearn-color-unfitted-level-1: #f6e4d2;\n",
       "  --sklearn-color-unfitted-level-2: #ffe0b3;\n",
       "  --sklearn-color-unfitted-level-3: chocolate;\n",
       "  /* Definition of color scheme for fitted estimators */\n",
       "  --sklearn-color-fitted-level-0: #f0f8ff;\n",
       "  --sklearn-color-fitted-level-1: #d4ebff;\n",
       "  --sklearn-color-fitted-level-2: #b3dbfd;\n",
       "  --sklearn-color-fitted-level-3: cornflowerblue;\n",
       "\n",
       "  /* Specific color for light theme */\n",
       "  --sklearn-color-text-on-default-background: var(--sg-text-color, var(--theme-code-foreground, var(--jp-content-font-color1, black)));\n",
       "  --sklearn-color-background: var(--sg-background-color, var(--theme-background, var(--jp-layout-color0, white)));\n",
       "  --sklearn-color-border-box: var(--sg-text-color, var(--theme-code-foreground, var(--jp-content-font-color1, black)));\n",
       "  --sklearn-color-icon: #696969;\n",
       "\n",
       "  @media (prefers-color-scheme: dark) {\n",
       "    /* Redefinition of color scheme for dark theme */\n",
       "    --sklearn-color-text-on-default-background: var(--sg-text-color, var(--theme-code-foreground, var(--jp-content-font-color1, white)));\n",
       "    --sklearn-color-background: var(--sg-background-color, var(--theme-background, var(--jp-layout-color0, #111)));\n",
       "    --sklearn-color-border-box: var(--sg-text-color, var(--theme-code-foreground, var(--jp-content-font-color1, white)));\n",
       "    --sklearn-color-icon: #878787;\n",
       "  }\n",
       "}\n",
       "\n",
       "#sk-container-id-1 {\n",
       "  color: var(--sklearn-color-text);\n",
       "}\n",
       "\n",
       "#sk-container-id-1 pre {\n",
       "  padding: 0;\n",
       "}\n",
       "\n",
       "#sk-container-id-1 input.sk-hidden--visually {\n",
       "  border: 0;\n",
       "  clip: rect(1px 1px 1px 1px);\n",
       "  clip: rect(1px, 1px, 1px, 1px);\n",
       "  height: 1px;\n",
       "  margin: -1px;\n",
       "  overflow: hidden;\n",
       "  padding: 0;\n",
       "  position: absolute;\n",
       "  width: 1px;\n",
       "}\n",
       "\n",
       "#sk-container-id-1 div.sk-dashed-wrapped {\n",
       "  border: 1px dashed var(--sklearn-color-line);\n",
       "  margin: 0 0.4em 0.5em 0.4em;\n",
       "  box-sizing: border-box;\n",
       "  padding-bottom: 0.4em;\n",
       "  background-color: var(--sklearn-color-background);\n",
       "}\n",
       "\n",
       "#sk-container-id-1 div.sk-container {\n",
       "  /* jupyter's `normalize.less` sets `[hidden] { display: none; }`\n",
       "     but bootstrap.min.css set `[hidden] { display: none !important; }`\n",
       "     so we also need the `!important` here to be able to override the\n",
       "     default hidden behavior on the sphinx rendered scikit-learn.org.\n",
       "     See: https://github.com/scikit-learn/scikit-learn/issues/21755 */\n",
       "  display: inline-block !important;\n",
       "  position: relative;\n",
       "}\n",
       "\n",
       "#sk-container-id-1 div.sk-text-repr-fallback {\n",
       "  display: none;\n",
       "}\n",
       "\n",
       "div.sk-parallel-item,\n",
       "div.sk-serial,\n",
       "div.sk-item {\n",
       "  /* draw centered vertical line to link estimators */\n",
       "  background-image: linear-gradient(var(--sklearn-color-text-on-default-background), var(--sklearn-color-text-on-default-background));\n",
       "  background-size: 2px 100%;\n",
       "  background-repeat: no-repeat;\n",
       "  background-position: center center;\n",
       "}\n",
       "\n",
       "/* Parallel-specific style estimator block */\n",
       "\n",
       "#sk-container-id-1 div.sk-parallel-item::after {\n",
       "  content: \"\";\n",
       "  width: 100%;\n",
       "  border-bottom: 2px solid var(--sklearn-color-text-on-default-background);\n",
       "  flex-grow: 1;\n",
       "}\n",
       "\n",
       "#sk-container-id-1 div.sk-parallel {\n",
       "  display: flex;\n",
       "  align-items: stretch;\n",
       "  justify-content: center;\n",
       "  background-color: var(--sklearn-color-background);\n",
       "  position: relative;\n",
       "}\n",
       "\n",
       "#sk-container-id-1 div.sk-parallel-item {\n",
       "  display: flex;\n",
       "  flex-direction: column;\n",
       "}\n",
       "\n",
       "#sk-container-id-1 div.sk-parallel-item:first-child::after {\n",
       "  align-self: flex-end;\n",
       "  width: 50%;\n",
       "}\n",
       "\n",
       "#sk-container-id-1 div.sk-parallel-item:last-child::after {\n",
       "  align-self: flex-start;\n",
       "  width: 50%;\n",
       "}\n",
       "\n",
       "#sk-container-id-1 div.sk-parallel-item:only-child::after {\n",
       "  width: 0;\n",
       "}\n",
       "\n",
       "/* Serial-specific style estimator block */\n",
       "\n",
       "#sk-container-id-1 div.sk-serial {\n",
       "  display: flex;\n",
       "  flex-direction: column;\n",
       "  align-items: center;\n",
       "  background-color: var(--sklearn-color-background);\n",
       "  padding-right: 1em;\n",
       "  padding-left: 1em;\n",
       "}\n",
       "\n",
       "\n",
       "/* Toggleable style: style used for estimator/Pipeline/ColumnTransformer box that is\n",
       "clickable and can be expanded/collapsed.\n",
       "- Pipeline and ColumnTransformer use this feature and define the default style\n",
       "- Estimators will overwrite some part of the style using the `sk-estimator` class\n",
       "*/\n",
       "\n",
       "/* Pipeline and ColumnTransformer style (default) */\n",
       "\n",
       "#sk-container-id-1 div.sk-toggleable {\n",
       "  /* Default theme specific background. It is overwritten whether we have a\n",
       "  specific estimator or a Pipeline/ColumnTransformer */\n",
       "  background-color: var(--sklearn-color-background);\n",
       "}\n",
       "\n",
       "/* Toggleable label */\n",
       "#sk-container-id-1 label.sk-toggleable__label {\n",
       "  cursor: pointer;\n",
       "  display: flex;\n",
       "  width: 100%;\n",
       "  margin-bottom: 0;\n",
       "  padding: 0.5em;\n",
       "  box-sizing: border-box;\n",
       "  text-align: center;\n",
       "  align-items: start;\n",
       "  justify-content: space-between;\n",
       "  gap: 0.5em;\n",
       "}\n",
       "\n",
       "#sk-container-id-1 label.sk-toggleable__label .caption {\n",
       "  font-size: 0.6rem;\n",
       "  font-weight: lighter;\n",
       "  color: var(--sklearn-color-text-muted);\n",
       "}\n",
       "\n",
       "#sk-container-id-1 label.sk-toggleable__label-arrow:before {\n",
       "  /* Arrow on the left of the label */\n",
       "  content: \"▸\";\n",
       "  float: left;\n",
       "  margin-right: 0.25em;\n",
       "  color: var(--sklearn-color-icon);\n",
       "}\n",
       "\n",
       "#sk-container-id-1 label.sk-toggleable__label-arrow:hover:before {\n",
       "  color: var(--sklearn-color-text);\n",
       "}\n",
       "\n",
       "/* Toggleable content - dropdown */\n",
       "\n",
       "#sk-container-id-1 div.sk-toggleable__content {\n",
       "  max-height: 0;\n",
       "  max-width: 0;\n",
       "  overflow: hidden;\n",
       "  text-align: left;\n",
       "  /* unfitted */\n",
       "  background-color: var(--sklearn-color-unfitted-level-0);\n",
       "}\n",
       "\n",
       "#sk-container-id-1 div.sk-toggleable__content.fitted {\n",
       "  /* fitted */\n",
       "  background-color: var(--sklearn-color-fitted-level-0);\n",
       "}\n",
       "\n",
       "#sk-container-id-1 div.sk-toggleable__content pre {\n",
       "  margin: 0.2em;\n",
       "  border-radius: 0.25em;\n",
       "  color: var(--sklearn-color-text);\n",
       "  /* unfitted */\n",
       "  background-color: var(--sklearn-color-unfitted-level-0);\n",
       "}\n",
       "\n",
       "#sk-container-id-1 div.sk-toggleable__content.fitted pre {\n",
       "  /* unfitted */\n",
       "  background-color: var(--sklearn-color-fitted-level-0);\n",
       "}\n",
       "\n",
       "#sk-container-id-1 input.sk-toggleable__control:checked~div.sk-toggleable__content {\n",
       "  /* Expand drop-down */\n",
       "  max-height: 200px;\n",
       "  max-width: 100%;\n",
       "  overflow: auto;\n",
       "}\n",
       "\n",
       "#sk-container-id-1 input.sk-toggleable__control:checked~label.sk-toggleable__label-arrow:before {\n",
       "  content: \"▾\";\n",
       "}\n",
       "\n",
       "/* Pipeline/ColumnTransformer-specific style */\n",
       "\n",
       "#sk-container-id-1 div.sk-label input.sk-toggleable__control:checked~label.sk-toggleable__label {\n",
       "  color: var(--sklearn-color-text);\n",
       "  background-color: var(--sklearn-color-unfitted-level-2);\n",
       "}\n",
       "\n",
       "#sk-container-id-1 div.sk-label.fitted input.sk-toggleable__control:checked~label.sk-toggleable__label {\n",
       "  background-color: var(--sklearn-color-fitted-level-2);\n",
       "}\n",
       "\n",
       "/* Estimator-specific style */\n",
       "\n",
       "/* Colorize estimator box */\n",
       "#sk-container-id-1 div.sk-estimator input.sk-toggleable__control:checked~label.sk-toggleable__label {\n",
       "  /* unfitted */\n",
       "  background-color: var(--sklearn-color-unfitted-level-2);\n",
       "}\n",
       "\n",
       "#sk-container-id-1 div.sk-estimator.fitted input.sk-toggleable__control:checked~label.sk-toggleable__label {\n",
       "  /* fitted */\n",
       "  background-color: var(--sklearn-color-fitted-level-2);\n",
       "}\n",
       "\n",
       "#sk-container-id-1 div.sk-label label.sk-toggleable__label,\n",
       "#sk-container-id-1 div.sk-label label {\n",
       "  /* The background is the default theme color */\n",
       "  color: var(--sklearn-color-text-on-default-background);\n",
       "}\n",
       "\n",
       "/* On hover, darken the color of the background */\n",
       "#sk-container-id-1 div.sk-label:hover label.sk-toggleable__label {\n",
       "  color: var(--sklearn-color-text);\n",
       "  background-color: var(--sklearn-color-unfitted-level-2);\n",
       "}\n",
       "\n",
       "/* Label box, darken color on hover, fitted */\n",
       "#sk-container-id-1 div.sk-label.fitted:hover label.sk-toggleable__label.fitted {\n",
       "  color: var(--sklearn-color-text);\n",
       "  background-color: var(--sklearn-color-fitted-level-2);\n",
       "}\n",
       "\n",
       "/* Estimator label */\n",
       "\n",
       "#sk-container-id-1 div.sk-label label {\n",
       "  font-family: monospace;\n",
       "  font-weight: bold;\n",
       "  display: inline-block;\n",
       "  line-height: 1.2em;\n",
       "}\n",
       "\n",
       "#sk-container-id-1 div.sk-label-container {\n",
       "  text-align: center;\n",
       "}\n",
       "\n",
       "/* Estimator-specific */\n",
       "#sk-container-id-1 div.sk-estimator {\n",
       "  font-family: monospace;\n",
       "  border: 1px dotted var(--sklearn-color-border-box);\n",
       "  border-radius: 0.25em;\n",
       "  box-sizing: border-box;\n",
       "  margin-bottom: 0.5em;\n",
       "  /* unfitted */\n",
       "  background-color: var(--sklearn-color-unfitted-level-0);\n",
       "}\n",
       "\n",
       "#sk-container-id-1 div.sk-estimator.fitted {\n",
       "  /* fitted */\n",
       "  background-color: var(--sklearn-color-fitted-level-0);\n",
       "}\n",
       "\n",
       "/* on hover */\n",
       "#sk-container-id-1 div.sk-estimator:hover {\n",
       "  /* unfitted */\n",
       "  background-color: var(--sklearn-color-unfitted-level-2);\n",
       "}\n",
       "\n",
       "#sk-container-id-1 div.sk-estimator.fitted:hover {\n",
       "  /* fitted */\n",
       "  background-color: var(--sklearn-color-fitted-level-2);\n",
       "}\n",
       "\n",
       "/* Specification for estimator info (e.g. \"i\" and \"?\") */\n",
       "\n",
       "/* Common style for \"i\" and \"?\" */\n",
       "\n",
       ".sk-estimator-doc-link,\n",
       "a:link.sk-estimator-doc-link,\n",
       "a:visited.sk-estimator-doc-link {\n",
       "  float: right;\n",
       "  font-size: smaller;\n",
       "  line-height: 1em;\n",
       "  font-family: monospace;\n",
       "  background-color: var(--sklearn-color-background);\n",
       "  border-radius: 1em;\n",
       "  height: 1em;\n",
       "  width: 1em;\n",
       "  text-decoration: none !important;\n",
       "  margin-left: 0.5em;\n",
       "  text-align: center;\n",
       "  /* unfitted */\n",
       "  border: var(--sklearn-color-unfitted-level-1) 1pt solid;\n",
       "  color: var(--sklearn-color-unfitted-level-1);\n",
       "}\n",
       "\n",
       ".sk-estimator-doc-link.fitted,\n",
       "a:link.sk-estimator-doc-link.fitted,\n",
       "a:visited.sk-estimator-doc-link.fitted {\n",
       "  /* fitted */\n",
       "  border: var(--sklearn-color-fitted-level-1) 1pt solid;\n",
       "  color: var(--sklearn-color-fitted-level-1);\n",
       "}\n",
       "\n",
       "/* On hover */\n",
       "div.sk-estimator:hover .sk-estimator-doc-link:hover,\n",
       ".sk-estimator-doc-link:hover,\n",
       "div.sk-label-container:hover .sk-estimator-doc-link:hover,\n",
       ".sk-estimator-doc-link:hover {\n",
       "  /* unfitted */\n",
       "  background-color: var(--sklearn-color-unfitted-level-3);\n",
       "  color: var(--sklearn-color-background);\n",
       "  text-decoration: none;\n",
       "}\n",
       "\n",
       "div.sk-estimator.fitted:hover .sk-estimator-doc-link.fitted:hover,\n",
       ".sk-estimator-doc-link.fitted:hover,\n",
       "div.sk-label-container:hover .sk-estimator-doc-link.fitted:hover,\n",
       ".sk-estimator-doc-link.fitted:hover {\n",
       "  /* fitted */\n",
       "  background-color: var(--sklearn-color-fitted-level-3);\n",
       "  color: var(--sklearn-color-background);\n",
       "  text-decoration: none;\n",
       "}\n",
       "\n",
       "/* Span, style for the box shown on hovering the info icon */\n",
       ".sk-estimator-doc-link span {\n",
       "  display: none;\n",
       "  z-index: 9999;\n",
       "  position: relative;\n",
       "  font-weight: normal;\n",
       "  right: .2ex;\n",
       "  padding: .5ex;\n",
       "  margin: .5ex;\n",
       "  width: min-content;\n",
       "  min-width: 20ex;\n",
       "  max-width: 50ex;\n",
       "  color: var(--sklearn-color-text);\n",
       "  box-shadow: 2pt 2pt 4pt #999;\n",
       "  /* unfitted */\n",
       "  background: var(--sklearn-color-unfitted-level-0);\n",
       "  border: .5pt solid var(--sklearn-color-unfitted-level-3);\n",
       "}\n",
       "\n",
       ".sk-estimator-doc-link.fitted span {\n",
       "  /* fitted */\n",
       "  background: var(--sklearn-color-fitted-level-0);\n",
       "  border: var(--sklearn-color-fitted-level-3);\n",
       "}\n",
       "\n",
       ".sk-estimator-doc-link:hover span {\n",
       "  display: block;\n",
       "}\n",
       "\n",
       "/* \"?\"-specific style due to the `<a>` HTML tag */\n",
       "\n",
       "#sk-container-id-1 a.estimator_doc_link {\n",
       "  float: right;\n",
       "  font-size: 1rem;\n",
       "  line-height: 1em;\n",
       "  font-family: monospace;\n",
       "  background-color: var(--sklearn-color-background);\n",
       "  border-radius: 1rem;\n",
       "  height: 1rem;\n",
       "  width: 1rem;\n",
       "  text-decoration: none;\n",
       "  /* unfitted */\n",
       "  color: var(--sklearn-color-unfitted-level-1);\n",
       "  border: var(--sklearn-color-unfitted-level-1) 1pt solid;\n",
       "}\n",
       "\n",
       "#sk-container-id-1 a.estimator_doc_link.fitted {\n",
       "  /* fitted */\n",
       "  border: var(--sklearn-color-fitted-level-1) 1pt solid;\n",
       "  color: var(--sklearn-color-fitted-level-1);\n",
       "}\n",
       "\n",
       "/* On hover */\n",
       "#sk-container-id-1 a.estimator_doc_link:hover {\n",
       "  /* unfitted */\n",
       "  background-color: var(--sklearn-color-unfitted-level-3);\n",
       "  color: var(--sklearn-color-background);\n",
       "  text-decoration: none;\n",
       "}\n",
       "\n",
       "#sk-container-id-1 a.estimator_doc_link.fitted:hover {\n",
       "  /* fitted */\n",
       "  background-color: var(--sklearn-color-fitted-level-3);\n",
       "}\n",
       "</style><div id=\"sk-container-id-1\" class=\"sk-top-container\"><div class=\"sk-text-repr-fallback\"><pre>LogisticRegression()</pre><b>In a Jupyter environment, please rerun this cell to show the HTML representation or trust the notebook. <br />On GitHub, the HTML representation is unable to render, please try loading this page with nbviewer.org.</b></div><div class=\"sk-container\" hidden><div class=\"sk-item\"><div class=\"sk-estimator fitted sk-toggleable\"><input class=\"sk-toggleable__control sk-hidden--visually\" id=\"sk-estimator-id-1\" type=\"checkbox\" checked><label for=\"sk-estimator-id-1\" class=\"sk-toggleable__label fitted sk-toggleable__label-arrow\"><div><div>LogisticRegression</div></div><div><a class=\"sk-estimator-doc-link fitted\" rel=\"noreferrer\" target=\"_blank\" href=\"https://scikit-learn.org/1.6/modules/generated/sklearn.linear_model.LogisticRegression.html\">?<span>Documentation for LogisticRegression</span></a><span class=\"sk-estimator-doc-link fitted\">i<span>Fitted</span></span></div></label><div class=\"sk-toggleable__content fitted\"><pre>LogisticRegression()</pre></div> </div></div></div></div>"
      ],
      "text/plain": [
       "LogisticRegression()"
      ]
     },
     "execution_count": 31,
     "metadata": {},
     "output_type": "execute_result"
    }
   ],
   "source": [
    "# make an object of logistic regression\n",
    "lr = LogisticRegression()\n",
    "\n",
    "#fitting the trainig data into lr model\n",
    "lr.fit(X_train, y_train)"
   ]
  },
  {
   "cell_type": "code",
   "execution_count": 35,
   "id": "98cfe175",
   "metadata": {},
   "outputs": [],
   "source": [
    "import pickle\n",
    "\n",
    "# Save model using pickle\n",
    "with open('logistic_regression.pkl', 'wb') as file:\n",
    "    pickle.dump(lr, file)\n",
    "\n",
    "# Load the model\n",
    "with open('logistic_regression.pkl', 'rb') as file:\n",
    "    lr = pickle.load(file)\n"
   ]
  },
  {
   "cell_type": "code",
   "execution_count": 37,
   "id": "377c0ff5",
   "metadata": {
    "execution": {
     "iopub.execute_input": "2024-04-06T17:59:28.200042Z",
     "iopub.status.busy": "2024-04-06T17:59:28.199521Z",
     "iopub.status.idle": "2024-04-06T17:59:28.252237Z",
     "shell.execute_reply": "2024-04-06T17:59:28.250881Z"
    },
    "papermill": {
     "duration": 0.100085,
     "end_time": "2024-04-06T17:59:28.256540",
     "exception": false,
     "start_time": "2024-04-06T17:59:28.156455",
     "status": "completed"
    },
    "tags": []
   },
   "outputs": [],
   "source": [
    "# testing the model on test data\n",
    "y_pred = lr.predict(X_test)"
   ]
  },
  {
   "cell_type": "code",
   "execution_count": 38,
   "id": "75200461",
   "metadata": {},
   "outputs": [
    {
     "data": {
      "text/plain": [
       "array([0, 0, 0, ..., 0, 0, 0], dtype=int64)"
      ]
     },
     "execution_count": 38,
     "metadata": {},
     "output_type": "execute_result"
    }
   ],
   "source": [
    "y_pred"
   ]
  },
  {
   "cell_type": "code",
   "execution_count": 39,
   "id": "d823a639",
   "metadata": {
    "execution": {
     "iopub.execute_input": "2024-04-06T17:59:28.341987Z",
     "iopub.status.busy": "2024-04-06T17:59:28.341447Z",
     "iopub.status.idle": "2024-04-06T17:59:37.367696Z",
     "shell.execute_reply": "2024-04-06T17:59:37.366827Z"
    },
    "papermill": {
     "duration": 9.071024,
     "end_time": "2024-04-06T17:59:37.370007",
     "exception": false,
     "start_time": "2024-04-06T17:59:28.298983",
     "status": "completed"
    },
    "tags": []
   },
   "outputs": [
    {
     "name": "stdout",
     "output_type": "stream",
     "text": [
      "Accuracy of logistic regression 0.9987080793761061\n",
      "Precision of logistic regression 0.15555555555555556\n",
      "Recall of logistic regression 0.002874743326488706\n",
      "Classification Report of logistic regression\n",
      "               precision    recall  f1-score   support\n",
      "\n",
      "           0       1.00      1.00      1.00   1906351\n",
      "           1       0.16      0.00      0.01      2435\n",
      "\n",
      "    accuracy                           1.00   1908786\n",
      "   macro avg       0.58      0.50      0.50   1908786\n",
      "weighted avg       1.00      1.00      1.00   1908786\n",
      "\n"
     ]
    }
   ],
   "source": [
    "# calculating the performance matrix\n",
    "\n",
    "#accuracy of the logistic regression\n",
    "accuracy_lr = accuracy_score(y_test, y_pred)\n",
    "\n",
    "# precision of the logistic regression\n",
    "precision_lr = precision_score(y_test, y_pred)\n",
    "\n",
    "# recall of the logistic regression\n",
    "recall_lr = recall_score(y_test, y_pred)\n",
    "\n",
    "# classification report\n",
    "classification_lr = classification_report(y_test, y_pred)\n",
    "\n",
    "# print the performance matrix\n",
    "print(f\"Accuracy of logistic regression {accuracy_lr}\")\n",
    "print(f\"Precision of logistic regression {precision_lr}\")\n",
    "print(f\"Recall of logistic regression {recall_lr}\")\n",
    "print(f\"Classification Report of logistic regression\\n {classification_lr}\")"
   ]
  },
  {
   "cell_type": "markdown",
   "id": "90576ef4",
   "metadata": {
    "papermill": {
     "duration": 0.018556,
     "end_time": "2024-04-06T17:59:37.408045",
     "exception": false,
     "start_time": "2024-04-06T17:59:37.389489",
     "status": "completed"
    },
    "tags": []
   },
   "source": [
    "**The logistic regression model achieves a very high accuracy of approximately 99.87%. However, its precision and recall for the positive class are notably low, around 15.91% and 0.29%, respectively. This indicates that while the model performs well in predicting negative instances, it struggles to identify positive instances accurately. This suggests the model's limited effectiveness in scenarios where correctly identifying positive cases is critical.**"
   ]
  },
  {
   "cell_type": "markdown",
   "id": "0638f62b",
   "metadata": {
    "papermill": {
     "duration": 0.018668,
     "end_time": "2024-04-06T17:59:37.445405",
     "exception": false,
     "start_time": "2024-04-06T17:59:37.426737",
     "status": "completed"
    },
    "tags": []
   },
   "source": [
    "### Decision Tree"
   ]
  },
  {
   "cell_type": "code",
   "execution_count": 40,
   "id": "f8063172",
   "metadata": {
    "execution": {
     "iopub.execute_input": "2024-04-06T17:59:37.484499Z",
     "iopub.status.busy": "2024-04-06T17:59:37.483778Z",
     "iopub.status.idle": "2024-04-06T18:00:06.456015Z",
     "shell.execute_reply": "2024-04-06T18:00:06.454777Z"
    },
    "papermill": {
     "duration": 28.994771,
     "end_time": "2024-04-06T18:00:06.458753",
     "exception": false,
     "start_time": "2024-04-06T17:59:37.463982",
     "status": "completed"
    },
    "tags": []
   },
   "outputs": [],
   "source": [
    "# make an object of logistic regression\n",
    "sv = DecisionTreeClassifier(max_depth = 20)\n",
    "\n",
    "#fitting the trainig data into lr model\n",
    "sv.fit(X_train, y_train)\n",
    "\n",
    "# testing the model on test data\n",
    "y_pred = sv.predict(X_test)"
   ]
  },
  {
   "cell_type": "code",
   "execution_count": 41,
   "id": "e3b0fac2",
   "metadata": {},
   "outputs": [],
   "source": [
    "# Save model using pickle\n",
    "with open('decision_tree.pkl', 'wb') as file:\n",
    "    pickle.dump(sv, file)\n",
    "\n",
    "# Load the model\n",
    "with open('decision_tree.pkl', 'rb') as file:\n",
    "    sv = pickle.load(file)"
   ]
  },
  {
   "cell_type": "code",
   "execution_count": 42,
   "id": "7b850157",
   "metadata": {
    "execution": {
     "iopub.execute_input": "2024-04-06T18:00:06.504982Z",
     "iopub.status.busy": "2024-04-06T18:00:06.504095Z",
     "iopub.status.idle": "2024-04-06T18:00:15.450246Z",
     "shell.execute_reply": "2024-04-06T18:00:15.449147Z"
    },
    "papermill": {
     "duration": 8.971247,
     "end_time": "2024-04-06T18:00:15.452436",
     "exception": false,
     "start_time": "2024-04-06T18:00:06.481189",
     "status": "completed"
    },
    "tags": []
   },
   "outputs": [
    {
     "name": "stdout",
     "output_type": "stream",
     "text": [
      "Accuracy of Decision Tree 0.9989810277317624\n",
      "Precision of Decision Tree 0.6703755215577191\n",
      "Recall of Decision Tree 0.39589322381930186\n",
      "Classification Report of Decision Tree\n",
      "               precision    recall  f1-score   support\n",
      "\n",
      "           0       1.00      1.00      1.00   1906351\n",
      "           1       0.67      0.40      0.50      2435\n",
      "\n",
      "    accuracy                           1.00   1908786\n",
      "   macro avg       0.83      0.70      0.75   1908786\n",
      "weighted avg       1.00      1.00      1.00   1908786\n",
      "\n"
     ]
    }
   ],
   "source": [
    "# calculating the performance matrix\n",
    "\n",
    "#accuracy of the logistic regression\n",
    "accuracy_sv = accuracy_score(y_test, y_pred)\n",
    "\n",
    "# precision of the logistic regression\n",
    "precision_sv = precision_score(y_test, y_pred)\n",
    "\n",
    "# recall of the logistic regression\n",
    "recall_sv = recall_score(y_test, y_pred)\n",
    "\n",
    "# classification report\n",
    "classification_sv = classification_report(y_test, y_pred)\n",
    "\n",
    "# print the performance matrix\n",
    "print(f\"Accuracy of Decision Tree {accuracy_sv}\")\n",
    "print(f\"Precision of Decision Tree {precision_sv}\")\n",
    "print(f\"Recall of Decision Tree {recall_sv}\")\n",
    "print(f\"Classification Report of Decision Tree\\n {classification_sv}\")"
   ]
  },
  {
   "cell_type": "markdown",
   "id": "018588a9",
   "metadata": {
    "papermill": {
     "duration": 0.018738,
     "end_time": "2024-04-06T18:00:15.491041",
     "exception": false,
     "start_time": "2024-04-06T18:00:15.472303",
     "status": "completed"
    },
    "tags": []
   },
   "source": [
    "**The Decision Tree model demonstrates strong performance with an accuracy of 99.90%. It achieves a precision of 66.21% and recall of 40.08% for the positive class, similar to the logistic regression model. This suggests the Decision Tree model effectively identifies true positives among its positive predictions while capturing 40.08% of actual positive instances. The model maintains a high F1-score of 0.50 for the positive class, indicating balanced precision and recall.**"
   ]
  },
  {
   "cell_type": "markdown",
   "id": "7b029e67",
   "metadata": {
    "papermill": {
     "duration": 0.019163,
     "end_time": "2024-04-06T18:00:15.529131",
     "exception": false,
     "start_time": "2024-04-06T18:00:15.509968",
     "status": "completed"
    },
    "tags": []
   },
   "source": [
    "### MLP Classifier"
   ]
  },
  {
   "cell_type": "code",
   "execution_count": 43,
   "id": "d4b229ac",
   "metadata": {
    "execution": {
     "iopub.execute_input": "2024-04-06T18:00:15.569842Z",
     "iopub.status.busy": "2024-04-06T18:00:15.569154Z",
     "iopub.status.idle": "2024-04-06T18:09:34.586070Z",
     "shell.execute_reply": "2024-04-06T18:09:34.585121Z"
    },
    "papermill": {
     "duration": 559.058671,
     "end_time": "2024-04-06T18:09:34.607518",
     "exception": false,
     "start_time": "2024-04-06T18:00:15.548847",
     "status": "completed"
    },
    "tags": []
   },
   "outputs": [
    {
     "data": {
      "text/html": [
       "<style>#sk-container-id-2 {\n",
       "  /* Definition of color scheme common for light and dark mode */\n",
       "  --sklearn-color-text: #000;\n",
       "  --sklearn-color-text-muted: #666;\n",
       "  --sklearn-color-line: gray;\n",
       "  /* Definition of color scheme for unfitted estimators */\n",
       "  --sklearn-color-unfitted-level-0: #fff5e6;\n",
       "  --sklearn-color-unfitted-level-1: #f6e4d2;\n",
       "  --sklearn-color-unfitted-level-2: #ffe0b3;\n",
       "  --sklearn-color-unfitted-level-3: chocolate;\n",
       "  /* Definition of color scheme for fitted estimators */\n",
       "  --sklearn-color-fitted-level-0: #f0f8ff;\n",
       "  --sklearn-color-fitted-level-1: #d4ebff;\n",
       "  --sklearn-color-fitted-level-2: #b3dbfd;\n",
       "  --sklearn-color-fitted-level-3: cornflowerblue;\n",
       "\n",
       "  /* Specific color for light theme */\n",
       "  --sklearn-color-text-on-default-background: var(--sg-text-color, var(--theme-code-foreground, var(--jp-content-font-color1, black)));\n",
       "  --sklearn-color-background: var(--sg-background-color, var(--theme-background, var(--jp-layout-color0, white)));\n",
       "  --sklearn-color-border-box: var(--sg-text-color, var(--theme-code-foreground, var(--jp-content-font-color1, black)));\n",
       "  --sklearn-color-icon: #696969;\n",
       "\n",
       "  @media (prefers-color-scheme: dark) {\n",
       "    /* Redefinition of color scheme for dark theme */\n",
       "    --sklearn-color-text-on-default-background: var(--sg-text-color, var(--theme-code-foreground, var(--jp-content-font-color1, white)));\n",
       "    --sklearn-color-background: var(--sg-background-color, var(--theme-background, var(--jp-layout-color0, #111)));\n",
       "    --sklearn-color-border-box: var(--sg-text-color, var(--theme-code-foreground, var(--jp-content-font-color1, white)));\n",
       "    --sklearn-color-icon: #878787;\n",
       "  }\n",
       "}\n",
       "\n",
       "#sk-container-id-2 {\n",
       "  color: var(--sklearn-color-text);\n",
       "}\n",
       "\n",
       "#sk-container-id-2 pre {\n",
       "  padding: 0;\n",
       "}\n",
       "\n",
       "#sk-container-id-2 input.sk-hidden--visually {\n",
       "  border: 0;\n",
       "  clip: rect(1px 1px 1px 1px);\n",
       "  clip: rect(1px, 1px, 1px, 1px);\n",
       "  height: 1px;\n",
       "  margin: -1px;\n",
       "  overflow: hidden;\n",
       "  padding: 0;\n",
       "  position: absolute;\n",
       "  width: 1px;\n",
       "}\n",
       "\n",
       "#sk-container-id-2 div.sk-dashed-wrapped {\n",
       "  border: 1px dashed var(--sklearn-color-line);\n",
       "  margin: 0 0.4em 0.5em 0.4em;\n",
       "  box-sizing: border-box;\n",
       "  padding-bottom: 0.4em;\n",
       "  background-color: var(--sklearn-color-background);\n",
       "}\n",
       "\n",
       "#sk-container-id-2 div.sk-container {\n",
       "  /* jupyter's `normalize.less` sets `[hidden] { display: none; }`\n",
       "     but bootstrap.min.css set `[hidden] { display: none !important; }`\n",
       "     so we also need the `!important` here to be able to override the\n",
       "     default hidden behavior on the sphinx rendered scikit-learn.org.\n",
       "     See: https://github.com/scikit-learn/scikit-learn/issues/21755 */\n",
       "  display: inline-block !important;\n",
       "  position: relative;\n",
       "}\n",
       "\n",
       "#sk-container-id-2 div.sk-text-repr-fallback {\n",
       "  display: none;\n",
       "}\n",
       "\n",
       "div.sk-parallel-item,\n",
       "div.sk-serial,\n",
       "div.sk-item {\n",
       "  /* draw centered vertical line to link estimators */\n",
       "  background-image: linear-gradient(var(--sklearn-color-text-on-default-background), var(--sklearn-color-text-on-default-background));\n",
       "  background-size: 2px 100%;\n",
       "  background-repeat: no-repeat;\n",
       "  background-position: center center;\n",
       "}\n",
       "\n",
       "/* Parallel-specific style estimator block */\n",
       "\n",
       "#sk-container-id-2 div.sk-parallel-item::after {\n",
       "  content: \"\";\n",
       "  width: 100%;\n",
       "  border-bottom: 2px solid var(--sklearn-color-text-on-default-background);\n",
       "  flex-grow: 1;\n",
       "}\n",
       "\n",
       "#sk-container-id-2 div.sk-parallel {\n",
       "  display: flex;\n",
       "  align-items: stretch;\n",
       "  justify-content: center;\n",
       "  background-color: var(--sklearn-color-background);\n",
       "  position: relative;\n",
       "}\n",
       "\n",
       "#sk-container-id-2 div.sk-parallel-item {\n",
       "  display: flex;\n",
       "  flex-direction: column;\n",
       "}\n",
       "\n",
       "#sk-container-id-2 div.sk-parallel-item:first-child::after {\n",
       "  align-self: flex-end;\n",
       "  width: 50%;\n",
       "}\n",
       "\n",
       "#sk-container-id-2 div.sk-parallel-item:last-child::after {\n",
       "  align-self: flex-start;\n",
       "  width: 50%;\n",
       "}\n",
       "\n",
       "#sk-container-id-2 div.sk-parallel-item:only-child::after {\n",
       "  width: 0;\n",
       "}\n",
       "\n",
       "/* Serial-specific style estimator block */\n",
       "\n",
       "#sk-container-id-2 div.sk-serial {\n",
       "  display: flex;\n",
       "  flex-direction: column;\n",
       "  align-items: center;\n",
       "  background-color: var(--sklearn-color-background);\n",
       "  padding-right: 1em;\n",
       "  padding-left: 1em;\n",
       "}\n",
       "\n",
       "\n",
       "/* Toggleable style: style used for estimator/Pipeline/ColumnTransformer box that is\n",
       "clickable and can be expanded/collapsed.\n",
       "- Pipeline and ColumnTransformer use this feature and define the default style\n",
       "- Estimators will overwrite some part of the style using the `sk-estimator` class\n",
       "*/\n",
       "\n",
       "/* Pipeline and ColumnTransformer style (default) */\n",
       "\n",
       "#sk-container-id-2 div.sk-toggleable {\n",
       "  /* Default theme specific background. It is overwritten whether we have a\n",
       "  specific estimator or a Pipeline/ColumnTransformer */\n",
       "  background-color: var(--sklearn-color-background);\n",
       "}\n",
       "\n",
       "/* Toggleable label */\n",
       "#sk-container-id-2 label.sk-toggleable__label {\n",
       "  cursor: pointer;\n",
       "  display: flex;\n",
       "  width: 100%;\n",
       "  margin-bottom: 0;\n",
       "  padding: 0.5em;\n",
       "  box-sizing: border-box;\n",
       "  text-align: center;\n",
       "  align-items: start;\n",
       "  justify-content: space-between;\n",
       "  gap: 0.5em;\n",
       "}\n",
       "\n",
       "#sk-container-id-2 label.sk-toggleable__label .caption {\n",
       "  font-size: 0.6rem;\n",
       "  font-weight: lighter;\n",
       "  color: var(--sklearn-color-text-muted);\n",
       "}\n",
       "\n",
       "#sk-container-id-2 label.sk-toggleable__label-arrow:before {\n",
       "  /* Arrow on the left of the label */\n",
       "  content: \"▸\";\n",
       "  float: left;\n",
       "  margin-right: 0.25em;\n",
       "  color: var(--sklearn-color-icon);\n",
       "}\n",
       "\n",
       "#sk-container-id-2 label.sk-toggleable__label-arrow:hover:before {\n",
       "  color: var(--sklearn-color-text);\n",
       "}\n",
       "\n",
       "/* Toggleable content - dropdown */\n",
       "\n",
       "#sk-container-id-2 div.sk-toggleable__content {\n",
       "  max-height: 0;\n",
       "  max-width: 0;\n",
       "  overflow: hidden;\n",
       "  text-align: left;\n",
       "  /* unfitted */\n",
       "  background-color: var(--sklearn-color-unfitted-level-0);\n",
       "}\n",
       "\n",
       "#sk-container-id-2 div.sk-toggleable__content.fitted {\n",
       "  /* fitted */\n",
       "  background-color: var(--sklearn-color-fitted-level-0);\n",
       "}\n",
       "\n",
       "#sk-container-id-2 div.sk-toggleable__content pre {\n",
       "  margin: 0.2em;\n",
       "  border-radius: 0.25em;\n",
       "  color: var(--sklearn-color-text);\n",
       "  /* unfitted */\n",
       "  background-color: var(--sklearn-color-unfitted-level-0);\n",
       "}\n",
       "\n",
       "#sk-container-id-2 div.sk-toggleable__content.fitted pre {\n",
       "  /* unfitted */\n",
       "  background-color: var(--sklearn-color-fitted-level-0);\n",
       "}\n",
       "\n",
       "#sk-container-id-2 input.sk-toggleable__control:checked~div.sk-toggleable__content {\n",
       "  /* Expand drop-down */\n",
       "  max-height: 200px;\n",
       "  max-width: 100%;\n",
       "  overflow: auto;\n",
       "}\n",
       "\n",
       "#sk-container-id-2 input.sk-toggleable__control:checked~label.sk-toggleable__label-arrow:before {\n",
       "  content: \"▾\";\n",
       "}\n",
       "\n",
       "/* Pipeline/ColumnTransformer-specific style */\n",
       "\n",
       "#sk-container-id-2 div.sk-label input.sk-toggleable__control:checked~label.sk-toggleable__label {\n",
       "  color: var(--sklearn-color-text);\n",
       "  background-color: var(--sklearn-color-unfitted-level-2);\n",
       "}\n",
       "\n",
       "#sk-container-id-2 div.sk-label.fitted input.sk-toggleable__control:checked~label.sk-toggleable__label {\n",
       "  background-color: var(--sklearn-color-fitted-level-2);\n",
       "}\n",
       "\n",
       "/* Estimator-specific style */\n",
       "\n",
       "/* Colorize estimator box */\n",
       "#sk-container-id-2 div.sk-estimator input.sk-toggleable__control:checked~label.sk-toggleable__label {\n",
       "  /* unfitted */\n",
       "  background-color: var(--sklearn-color-unfitted-level-2);\n",
       "}\n",
       "\n",
       "#sk-container-id-2 div.sk-estimator.fitted input.sk-toggleable__control:checked~label.sk-toggleable__label {\n",
       "  /* fitted */\n",
       "  background-color: var(--sklearn-color-fitted-level-2);\n",
       "}\n",
       "\n",
       "#sk-container-id-2 div.sk-label label.sk-toggleable__label,\n",
       "#sk-container-id-2 div.sk-label label {\n",
       "  /* The background is the default theme color */\n",
       "  color: var(--sklearn-color-text-on-default-background);\n",
       "}\n",
       "\n",
       "/* On hover, darken the color of the background */\n",
       "#sk-container-id-2 div.sk-label:hover label.sk-toggleable__label {\n",
       "  color: var(--sklearn-color-text);\n",
       "  background-color: var(--sklearn-color-unfitted-level-2);\n",
       "}\n",
       "\n",
       "/* Label box, darken color on hover, fitted */\n",
       "#sk-container-id-2 div.sk-label.fitted:hover label.sk-toggleable__label.fitted {\n",
       "  color: var(--sklearn-color-text);\n",
       "  background-color: var(--sklearn-color-fitted-level-2);\n",
       "}\n",
       "\n",
       "/* Estimator label */\n",
       "\n",
       "#sk-container-id-2 div.sk-label label {\n",
       "  font-family: monospace;\n",
       "  font-weight: bold;\n",
       "  display: inline-block;\n",
       "  line-height: 1.2em;\n",
       "}\n",
       "\n",
       "#sk-container-id-2 div.sk-label-container {\n",
       "  text-align: center;\n",
       "}\n",
       "\n",
       "/* Estimator-specific */\n",
       "#sk-container-id-2 div.sk-estimator {\n",
       "  font-family: monospace;\n",
       "  border: 1px dotted var(--sklearn-color-border-box);\n",
       "  border-radius: 0.25em;\n",
       "  box-sizing: border-box;\n",
       "  margin-bottom: 0.5em;\n",
       "  /* unfitted */\n",
       "  background-color: var(--sklearn-color-unfitted-level-0);\n",
       "}\n",
       "\n",
       "#sk-container-id-2 div.sk-estimator.fitted {\n",
       "  /* fitted */\n",
       "  background-color: var(--sklearn-color-fitted-level-0);\n",
       "}\n",
       "\n",
       "/* on hover */\n",
       "#sk-container-id-2 div.sk-estimator:hover {\n",
       "  /* unfitted */\n",
       "  background-color: var(--sklearn-color-unfitted-level-2);\n",
       "}\n",
       "\n",
       "#sk-container-id-2 div.sk-estimator.fitted:hover {\n",
       "  /* fitted */\n",
       "  background-color: var(--sklearn-color-fitted-level-2);\n",
       "}\n",
       "\n",
       "/* Specification for estimator info (e.g. \"i\" and \"?\") */\n",
       "\n",
       "/* Common style for \"i\" and \"?\" */\n",
       "\n",
       ".sk-estimator-doc-link,\n",
       "a:link.sk-estimator-doc-link,\n",
       "a:visited.sk-estimator-doc-link {\n",
       "  float: right;\n",
       "  font-size: smaller;\n",
       "  line-height: 1em;\n",
       "  font-family: monospace;\n",
       "  background-color: var(--sklearn-color-background);\n",
       "  border-radius: 1em;\n",
       "  height: 1em;\n",
       "  width: 1em;\n",
       "  text-decoration: none !important;\n",
       "  margin-left: 0.5em;\n",
       "  text-align: center;\n",
       "  /* unfitted */\n",
       "  border: var(--sklearn-color-unfitted-level-1) 1pt solid;\n",
       "  color: var(--sklearn-color-unfitted-level-1);\n",
       "}\n",
       "\n",
       ".sk-estimator-doc-link.fitted,\n",
       "a:link.sk-estimator-doc-link.fitted,\n",
       "a:visited.sk-estimator-doc-link.fitted {\n",
       "  /* fitted */\n",
       "  border: var(--sklearn-color-fitted-level-1) 1pt solid;\n",
       "  color: var(--sklearn-color-fitted-level-1);\n",
       "}\n",
       "\n",
       "/* On hover */\n",
       "div.sk-estimator:hover .sk-estimator-doc-link:hover,\n",
       ".sk-estimator-doc-link:hover,\n",
       "div.sk-label-container:hover .sk-estimator-doc-link:hover,\n",
       ".sk-estimator-doc-link:hover {\n",
       "  /* unfitted */\n",
       "  background-color: var(--sklearn-color-unfitted-level-3);\n",
       "  color: var(--sklearn-color-background);\n",
       "  text-decoration: none;\n",
       "}\n",
       "\n",
       "div.sk-estimator.fitted:hover .sk-estimator-doc-link.fitted:hover,\n",
       ".sk-estimator-doc-link.fitted:hover,\n",
       "div.sk-label-container:hover .sk-estimator-doc-link.fitted:hover,\n",
       ".sk-estimator-doc-link.fitted:hover {\n",
       "  /* fitted */\n",
       "  background-color: var(--sklearn-color-fitted-level-3);\n",
       "  color: var(--sklearn-color-background);\n",
       "  text-decoration: none;\n",
       "}\n",
       "\n",
       "/* Span, style for the box shown on hovering the info icon */\n",
       ".sk-estimator-doc-link span {\n",
       "  display: none;\n",
       "  z-index: 9999;\n",
       "  position: relative;\n",
       "  font-weight: normal;\n",
       "  right: .2ex;\n",
       "  padding: .5ex;\n",
       "  margin: .5ex;\n",
       "  width: min-content;\n",
       "  min-width: 20ex;\n",
       "  max-width: 50ex;\n",
       "  color: var(--sklearn-color-text);\n",
       "  box-shadow: 2pt 2pt 4pt #999;\n",
       "  /* unfitted */\n",
       "  background: var(--sklearn-color-unfitted-level-0);\n",
       "  border: .5pt solid var(--sklearn-color-unfitted-level-3);\n",
       "}\n",
       "\n",
       ".sk-estimator-doc-link.fitted span {\n",
       "  /* fitted */\n",
       "  background: var(--sklearn-color-fitted-level-0);\n",
       "  border: var(--sklearn-color-fitted-level-3);\n",
       "}\n",
       "\n",
       ".sk-estimator-doc-link:hover span {\n",
       "  display: block;\n",
       "}\n",
       "\n",
       "/* \"?\"-specific style due to the `<a>` HTML tag */\n",
       "\n",
       "#sk-container-id-2 a.estimator_doc_link {\n",
       "  float: right;\n",
       "  font-size: 1rem;\n",
       "  line-height: 1em;\n",
       "  font-family: monospace;\n",
       "  background-color: var(--sklearn-color-background);\n",
       "  border-radius: 1rem;\n",
       "  height: 1rem;\n",
       "  width: 1rem;\n",
       "  text-decoration: none;\n",
       "  /* unfitted */\n",
       "  color: var(--sklearn-color-unfitted-level-1);\n",
       "  border: var(--sklearn-color-unfitted-level-1) 1pt solid;\n",
       "}\n",
       "\n",
       "#sk-container-id-2 a.estimator_doc_link.fitted {\n",
       "  /* fitted */\n",
       "  border: var(--sklearn-color-fitted-level-1) 1pt solid;\n",
       "  color: var(--sklearn-color-fitted-level-1);\n",
       "}\n",
       "\n",
       "/* On hover */\n",
       "#sk-container-id-2 a.estimator_doc_link:hover {\n",
       "  /* unfitted */\n",
       "  background-color: var(--sklearn-color-unfitted-level-3);\n",
       "  color: var(--sklearn-color-background);\n",
       "  text-decoration: none;\n",
       "}\n",
       "\n",
       "#sk-container-id-2 a.estimator_doc_link.fitted:hover {\n",
       "  /* fitted */\n",
       "  background-color: var(--sklearn-color-fitted-level-3);\n",
       "}\n",
       "</style><div id=\"sk-container-id-2\" class=\"sk-top-container\"><div class=\"sk-text-repr-fallback\"><pre>MLPClassifier(batch_size=32, hidden_layer_sizes=10, learning_rate=&#x27;adaptive&#x27;)</pre><b>In a Jupyter environment, please rerun this cell to show the HTML representation or trust the notebook. <br />On GitHub, the HTML representation is unable to render, please try loading this page with nbviewer.org.</b></div><div class=\"sk-container\" hidden><div class=\"sk-item\"><div class=\"sk-estimator fitted sk-toggleable\"><input class=\"sk-toggleable__control sk-hidden--visually\" id=\"sk-estimator-id-2\" type=\"checkbox\" checked><label for=\"sk-estimator-id-2\" class=\"sk-toggleable__label fitted sk-toggleable__label-arrow\"><div><div>MLPClassifier</div></div><div><a class=\"sk-estimator-doc-link fitted\" rel=\"noreferrer\" target=\"_blank\" href=\"https://scikit-learn.org/1.6/modules/generated/sklearn.neural_network.MLPClassifier.html\">?<span>Documentation for MLPClassifier</span></a><span class=\"sk-estimator-doc-link fitted\">i<span>Fitted</span></span></div></label><div class=\"sk-toggleable__content fitted\"><pre>MLPClassifier(batch_size=32, hidden_layer_sizes=10, learning_rate=&#x27;adaptive&#x27;)</pre></div> </div></div></div></div>"
      ],
      "text/plain": [
       "MLPClassifier(batch_size=32, hidden_layer_sizes=10, learning_rate='adaptive')"
      ]
     },
     "execution_count": 43,
     "metadata": {},
     "output_type": "execute_result"
    }
   ],
   "source": [
    "mlp = MLPClassifier(hidden_layer_sizes= 10, batch_size= 32, learning_rate= 'adaptive', learning_rate_init=0.001)\n",
    "mlp.fit(X_train, y_train)"
   ]
  },
  {
   "cell_type": "code",
   "execution_count": 44,
   "id": "43724528",
   "metadata": {},
   "outputs": [],
   "source": [
    "# Save model using pickle\n",
    "with open('multi_layer_perceptron.pkl', 'wb') as file:\n",
    "    pickle.dump(mlp, file)\n",
    "\n",
    "# Load the model\n",
    "with open('multi_layer_perceptron.pkl', 'rb') as file:\n",
    "    mlp = pickle.load(file)"
   ]
  },
  {
   "cell_type": "code",
   "execution_count": 45,
   "id": "472304fd",
   "metadata": {
    "execution": {
     "iopub.execute_input": "2024-04-06T18:09:34.647045Z",
     "iopub.status.busy": "2024-04-06T18:09:34.646770Z",
     "iopub.status.idle": "2024-04-06T18:09:35.002654Z",
     "shell.execute_reply": "2024-04-06T18:09:35.001200Z"
    },
    "papermill": {
     "duration": 0.380543,
     "end_time": "2024-04-06T18:09:35.007183",
     "exception": false,
     "start_time": "2024-04-06T18:09:34.626640",
     "status": "completed"
    },
    "tags": []
   },
   "outputs": [],
   "source": [
    "y_pred = mlp.predict(X_test)"
   ]
  },
  {
   "cell_type": "code",
   "execution_count": 46,
   "id": "0bf41a45",
   "metadata": {
    "execution": {
     "iopub.execute_input": "2024-04-06T18:09:35.074090Z",
     "iopub.status.busy": "2024-04-06T18:09:35.073751Z",
     "iopub.status.idle": "2024-04-06T18:09:43.948834Z",
     "shell.execute_reply": "2024-04-06T18:09:43.947746Z"
    },
    "papermill": {
     "duration": 8.901668,
     "end_time": "2024-04-06T18:09:43.951302",
     "exception": false,
     "start_time": "2024-04-06T18:09:35.049634",
     "status": "completed"
    },
    "tags": []
   },
   "outputs": [
    {
     "name": "stdout",
     "output_type": "stream",
     "text": [
      "Accuracy of MLP Classifier 0.9989003481794188\n",
      "Precision of MLP Classifier 0.8870967741935484\n",
      "Recall of MLP Classifier 0.15811088295687886\n",
      "Classification Report of MLP Classifier\n",
      "               precision    recall  f1-score   support\n",
      "\n",
      "           0       1.00      1.00      1.00   1906351\n",
      "           1       0.89      0.16      0.27      2435\n",
      "\n",
      "    accuracy                           1.00   1908786\n",
      "   macro avg       0.94      0.58      0.63   1908786\n",
      "weighted avg       1.00      1.00      1.00   1908786\n",
      "\n"
     ]
    }
   ],
   "source": [
    "# calculating the performance matrix\n",
    "\n",
    "#accuracy of the logistic regression\n",
    "accuracy_mlp = accuracy_score(y_test, y_pred)\n",
    "\n",
    "# precision of the logistic regression\n",
    "precision_mlp = precision_score(y_test, y_pred)\n",
    "\n",
    "# recall of the logistic regression\n",
    "recall_mlp = recall_score(y_test, y_pred)\n",
    "\n",
    "# classification report\n",
    "classification_mlp = classification_report(y_test, y_pred)\n",
    "\n",
    "# print the performance matrix\n",
    "print(f\"Accuracy of MLP Classifier {accuracy_mlp}\")\n",
    "print(f\"Precision of MLP Classifier {precision_mlp}\")\n",
    "print(f\"Recall of MLP Classifier {recall_mlp}\")\n",
    "print(f\"Classification Report of MLP Classifier\\n {classification_mlp}\")"
   ]
  },
  {
   "cell_type": "markdown",
   "id": "98a83698",
   "metadata": {
    "papermill": {
     "duration": 0.019054,
     "end_time": "2024-04-06T18:09:43.990289",
     "exception": false,
     "start_time": "2024-04-06T18:09:43.971235",
     "status": "completed"
    },
    "tags": []
   },
   "source": [
    "**The MLP Classifier exhibits an impressive accuracy of 99.89%. However, its precision for the positive class is notably high at 92.66%, while its recall is much lower at 14.00%. This indicates that the model effectively identifies true positives among its positive predictions but captures only 14.00% of actual positive instances. Consequently, the F1-score for the positive class is relatively low at 0.24. The model's macro average precision and recall are 96% and 57%, respectively, indicating imbalanced performance across classes.**"
   ]
  },
  {
   "cell_type": "markdown",
   "id": "8eea0377",
   "metadata": {
    "papermill": {
     "duration": 0.019177,
     "end_time": "2024-04-06T18:09:44.028670",
     "exception": false,
     "start_time": "2024-04-06T18:09:44.009493",
     "status": "completed"
    },
    "tags": []
   },
   "source": [
    "## Comparing the model"
   ]
  },
  {
   "cell_type": "code",
   "execution_count": 47,
   "id": "aacb4039",
   "metadata": {
    "execution": {
     "iopub.execute_input": "2024-04-06T18:09:44.069208Z",
     "iopub.status.busy": "2024-04-06T18:09:44.068486Z",
     "iopub.status.idle": "2024-04-06T18:09:44.080862Z",
     "shell.execute_reply": "2024-04-06T18:09:44.079980Z"
    },
    "papermill": {
     "duration": 0.034856,
     "end_time": "2024-04-06T18:09:44.082843",
     "exception": false,
     "start_time": "2024-04-06T18:09:44.047987",
     "status": "completed"
    },
    "tags": []
   },
   "outputs": [
    {
     "data": {
      "text/html": [
       "<div>\n",
       "<style scoped>\n",
       "    .dataframe tbody tr th:only-of-type {\n",
       "        vertical-align: middle;\n",
       "    }\n",
       "\n",
       "    .dataframe tbody tr th {\n",
       "        vertical-align: top;\n",
       "    }\n",
       "\n",
       "    .dataframe thead th {\n",
       "        text-align: right;\n",
       "    }\n",
       "</style>\n",
       "<table border=\"1\" class=\"dataframe\">\n",
       "  <thead>\n",
       "    <tr style=\"text-align: right;\">\n",
       "      <th></th>\n",
       "      <th>models</th>\n",
       "      <th>accuracy</th>\n",
       "      <th>precision</th>\n",
       "      <th>recall</th>\n",
       "    </tr>\n",
       "  </thead>\n",
       "  <tbody>\n",
       "    <tr>\n",
       "      <th>0</th>\n",
       "      <td>Multi Layer Perceptron</td>\n",
       "      <td>0.998900</td>\n",
       "      <td>0.887097</td>\n",
       "      <td>0.158111</td>\n",
       "    </tr>\n",
       "    <tr>\n",
       "      <th>1</th>\n",
       "      <td>Logistic Regression</td>\n",
       "      <td>0.998708</td>\n",
       "      <td>0.155556</td>\n",
       "      <td>0.002875</td>\n",
       "    </tr>\n",
       "    <tr>\n",
       "      <th>2</th>\n",
       "      <td>Decision Tree</td>\n",
       "      <td>0.998981</td>\n",
       "      <td>0.670376</td>\n",
       "      <td>0.395893</td>\n",
       "    </tr>\n",
       "  </tbody>\n",
       "</table>\n",
       "</div>"
      ],
      "text/plain": [
       "                   models  accuracy  precision    recall\n",
       "0  Multi Layer Perceptron  0.998900   0.887097  0.158111\n",
       "1     Logistic Regression  0.998708   0.155556  0.002875\n",
       "2           Decision Tree  0.998981   0.670376  0.395893"
      ]
     },
     "execution_count": 47,
     "metadata": {},
     "output_type": "execute_result"
    }
   ],
   "source": [
    "performance_df = pd.DataFrame({\n",
    "    'models' : ['Multi Layer Perceptron', 'Logistic Regression', 'Decision Tree'],\n",
    "    'accuracy' : [accuracy_mlp, accuracy_lr, accuracy_sv],\n",
    "    'precision' : [precision_mlp, precision_lr, precision_sv],\n",
    "    'recall' : [recall_mlp, recall_lr, recall_sv]\n",
    "})\n",
    "performance_df"
   ]
  },
  {
   "cell_type": "code",
   "execution_count": 48,
   "id": "5c971725",
   "metadata": {
    "execution": {
     "iopub.execute_input": "2024-04-06T18:09:44.123202Z",
     "iopub.status.busy": "2024-04-06T18:09:44.122881Z",
     "iopub.status.idle": "2024-04-06T18:09:44.927634Z",
     "shell.execute_reply": "2024-04-06T18:09:44.926707Z"
    },
    "papermill": {
     "duration": 0.827748,
     "end_time": "2024-04-06T18:09:44.930344",
     "exception": false,
     "start_time": "2024-04-06T18:09:44.102596",
     "status": "completed"
    },
    "tags": []
   },
   "outputs": [
    {
     "data": {
      "image/png": "[encoded data removed]",
      "text/plain": [
       "<Figure size 1800x600 with 3 Axes>"
      ]
     },
     "metadata": {},
     "output_type": "display_data"
    }
   ],
   "source": [
    "# Create a figure and multiple axis objects\n",
    "fig, ax = plt.subplots(1, 3, figsize=(18, 6))  # 1 row, 3 columns\n",
    "\n",
    "metrics = ['accuracy', 'precision', 'recall']\n",
    "\n",
    "for i, metric in enumerate(metrics):\n",
    "    performance_df[metric].plot(kind='bar', ax=ax[i], color = '#F47F10')\n",
    "    \n",
    "    # Set the tick labels and rotation\n",
    "    ax[i].set_xticklabels(performance_df['models'], rotation=45, fontweight = 'bold')\n",
    "    \n",
    "    # Adding labels\n",
    "    ax[i].set_xlabel('Models', fontsize = 14)\n",
    "    ax[i].set_ylabel(metric.capitalize(), fontsize = 14)  # Use the metric name as ylabel\n",
    "    ax[i].set_title(f'{metric.capitalize()} by Model', fontsize = 20, fontweight = 'bold')  # Set dynamic title\n",
    "\n",
    "plt.tight_layout()\n",
    "plt.show()"
   ]
  },
  {
   "cell_type": "markdown",
   "id": "7180d688",
   "metadata": {
    "papermill": {
     "duration": 0.020973,
     "end_time": "2024-04-06T18:09:44.972411",
     "exception": false,
     "start_time": "2024-04-06T18:09:44.951438",
     "status": "completed"
    },
    "tags": []
   },
   "source": [
    "**The Decision Tree model shows the most balanced performance with respect to precision and recall, followed by the MLP. Logistic Regression performs poorly in correctly identifying positive instances despite its high accuracy.**"
   ]
  },
  {
   "cell_type": "markdown",
   "id": "bcd8c4ed",
   "metadata": {
    "papermill": {
     "duration": 0.020292,
     "end_time": "2024-04-06T18:09:45.016377",
     "exception": false,
     "start_time": "2024-04-06T18:09:44.996085",
     "status": "completed"
    },
    "tags": []
   },
   "source": [
    "# Conclusion"
   ]
  },
  {
   "cell_type": "code",
   "execution_count": null,
   "id": "c5851924",
   "metadata": {
    "papermill": {
     "duration": 0.020041,
     "end_time": "2024-04-06T18:09:45.056932",
     "exception": false,
     "start_time": "2024-04-06T18:09:45.036891",
     "status": "completed"
    },
    "tags": []
   },
   "outputs": [],
   "source": []
  }
 ],
 "metadata": {
  "kaggle": {
   "accelerator": "gpu",
   "dataSources": [
    {
     "datasetId": 4557717,
     "sourceId": 7786909,
     "sourceType": "datasetVersion"
    }
   ],
   "dockerImageVersionId": 30674,
   "isGpuEnabled": true,
   "isInternetEnabled": true,
   "language": "python",
   "sourceType": "notebook"
  },
  "kernelspec": {
   "display_name": "sandbox",
   "language": "python",
   "name": "python3"
  },
  "language_info": {
   "codemirror_mode": {
    "name": "ipython",
    "version": 3
   },
   "file_extension": ".py",
   "mimetype": "text/x-python",
   "name": "python",
   "nbconvert_exporter": "python",
   "pygments_lexer": "ipython3",
   "version": "3.9.21"
  },
  "papermill": {
   "default_parameters": {},
   "duration": 688.027827,
   "end_time": "2024-04-06T18:09:45.999483",
   "environment_variables": {},
   "exception": null,
   "input_path": "__notebook__.ipynb",
   "output_path": "__notebook__.ipynb",
   "parameters": {},
   "start_time": "2024-04-06T17:58:17.971656",
   "version": "2.5.0"
  }
 },
 "nbformat": 4,
 "nbformat_minor": 5
}
